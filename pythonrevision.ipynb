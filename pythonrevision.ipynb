{
 "cells": [
  {
   "cell_type": "markdown",
   "metadata": {},
   "source": [
    "# 1) Keyboard Shortcut List (Mac)"
   ]
  },
  {
   "cell_type": "markdown",
   "metadata": {},
   "source": [
    "## Command Mode\n",
    "- H show all shortcuts\n",
    "- Ctrl + S save and checkpoint\n",
    "- Enter take you into edit mode\n",
    "- 1: change cell to heading 1\n",
    "- 2: change cell to heading 2\n",
    "- 3: change cell to heading 3\n",
    "- 4: change cell to heading 4\n",
    "- 5: change cell to heading 5\n",
    "- 6: change cell to heading 6\n",
    "- shift + enter run cell, select below\n",
    "- ctrl + enter run cell\n",
    "- option + enter run cell, insert below\n",
    "- A insert cell above\n",
    "- B insert cell below\n",
    "- C copy cell\n",
    "- V paste cell\n",
    "- D , D delete selected cell\n",
    "- shift + M merge selected cells, or current cell with cell below if only one cell selected\n",
    "- I , I interrupt kernel\n",
    "- 0 , 0 restart kernel (with dialog)\n",
    "- Y change cell to code mode\n",
    "- M change cell to markdown mode (good for documentation)\n",
    "\n",
    "\n",
    "## Edit Mode\n",
    "- cmd + click for multi-cursor editing\n",
    "- option + scrolling click for column editing\n",
    "- cmd + / toggle comment lines\n",
    "- tab code completion or indent\n",
    "- shift + tab tooltip\n",
    "- ctrl + shift + - split cell\n",
    "\n",
    "## Command Palette\n",
    "- cmd + shift + p\n",
    "\n",
    "## Sources: \n",
    "http://maxmelnick.com/2016/04/19/python-beginner-tips-and-tricks.html\n",
    "https://towardsdatascience.com/jypyter-notebook-shortcuts-bf0101a98330"
   ]
  },
  {
   "cell_type": "markdown",
   "metadata": {},
   "source": [
    "# 2) Text Formatting\n",
    "\n",
    "# Heading 1 using \"#\"\n",
    "\n",
    "## Heading 2 using \"##\"\n",
    "\n",
    "### Heading 3 using \"###\"\n",
    "\n",
    "`Adding a light background using` using ` \n",
    "\n",
    "- / * for bullet points\n",
    "\n",
    "**Bold the words** using **\n",
    "\n",
    ">Making Quotes using\n",
    "\n",
    "| Make | Table | Using | Bamboo Stick |"
   ]
  },
  {
   "cell_type": "code",
   "execution_count": 8,
   "metadata": {},
   "outputs": [],
   "source": [
    "# Enable Codes to run line by line\n",
    "from IPython.core.interactiveshell import InteractiveShell\n",
    "InteractiveShell.ast_node_interactivity = \"all\""
   ]
  },
  {
   "cell_type": "markdown",
   "metadata": {},
   "source": [
    "# 3) Python Variables"
   ]
  },
  {
   "cell_type": "code",
   "execution_count": 36,
   "metadata": {},
   "outputs": [
    {
     "name": "stdout",
     "output_type": "stream",
     "text": [
      "x: 4\n",
      "y: Sally\n",
      "x1: Orange\n",
      "y1: Banana\n",
      "z1: Cherry\n",
      "x2: Orange\n",
      "y2: Orange\n",
      "z2: Orange\n",
      "Python is awesome\n",
      "Python is awesome2\n",
      "x5 + y5 = 15\n",
      "Python x6 is awesome3\n",
      "Inner Python is fantastic\n",
      "Outer Python is awesome\n",
      "Global Python is fantasticcc\n",
      "Changed Global Python is 123 fantastic\n"
     ]
    }
   ],
   "source": [
    "#Creating Variables\n",
    "x = 4 # x is of type int\n",
    "y = \"Sally\" # x is now of type str\n",
    "print('x: '+ str(x))\n",
    "print('y: '+ y)\n",
    "\n",
    "\n",
    "#Legal variable names:\n",
    "myvar = \"John\"\n",
    "my_var = \"John\"\n",
    "_my_var = \"John\"\n",
    "myVar = \"John\"\n",
    "MYVAR = \"John\"\n",
    "myvar2 = \"John\"\n",
    "\n",
    "\n",
    "# Illegal variable names:\n",
    "# 2myvar = \"John\"\n",
    "# my-var = \"John\"\n",
    "# my var = \"John\"\n",
    "\n",
    "\n",
    "#Assign Value to Multiple Variables\n",
    "x1, y1, z1 = \"Orange\", \"Banana\", \"Cherry\"\n",
    "print('x1: '+ x1)\n",
    "print('y1: '+ y1)\n",
    "print('z1: '+ z1)\n",
    "\n",
    "\n",
    "#Assign the same value to multiple variables in one line:\n",
    "x2 = y2 = z2 = \"Orange\"\n",
    "print('x2: '+ x2)\n",
    "print('y2: '+ y2)\n",
    "print('z2: '+ z2)\n",
    "\n",
    "\n",
    "#To combine both text and a variable, Python uses the + character:\n",
    "x3 = \"awesome\"\n",
    "print(\"Python is \" + x3)\n",
    "\n",
    "\n",
    "#use the + character to add a variable to another variable:\n",
    "x4 = \"Python is \"\n",
    "y4 = \"awesome2\"\n",
    "z4 =  x4 + y4\n",
    "print(z4)\n",
    "\n",
    "\n",
    "#For numbers, the + character works as a mathematical operator:\n",
    "x5 = 5\n",
    "y5 = 10\n",
    "print('x5 + y5 = ' + str(x5 + y5))\n",
    "\n",
    "\n",
    "# Global Variables\n",
    "# Variables that are created outside of a function (as in all of the examples above) are known as global variables.\n",
    "# Global variables can be used by everyone, both inside of functions and outside.\n",
    "x6 = \"awesome3\"\n",
    "\n",
    "def myfunc():\n",
    "  print(\"Python x6 is \" + x6)\n",
    "\n",
    "myfunc()\n",
    "\n",
    "\n",
    "# If you create a variable with the same name inside a function, this variable will be local, and can only be used inside the function. The global variable with the same name will remain as it was, global and with the original value.\n",
    "x7 = \"awesome\"\n",
    "\n",
    "def myfunc():\n",
    "  x7 = \"fantastic\"\n",
    "  print(\"Inner Python is \" + x7)\n",
    "\n",
    "myfunc()\n",
    "\n",
    "print(\"Outer Python is \" + x7)\n",
    "\n",
    "\n",
    "#To create a global variable inside a function, you can use the global keyword.\n",
    "def myfunc():\n",
    "  global x8\n",
    "  x8 = \"fantasticcc\"\n",
    "\n",
    "myfunc()\n",
    "\n",
    "print(\"Global Python is \" + x8)\n",
    "\n",
    "\n",
    "#To change the value of a global variable inside a function, refer to the variable by using the global keyword:\n",
    "x9 = \"awesome\"\n",
    "\n",
    "def myfunc():\n",
    "  global x9\n",
    "  x9 = \"123 fantastic\"\n",
    "\n",
    "myfunc()\n",
    "\n",
    "print(\"Changed Global Python is \" + x9)"
   ]
  },
  {
   "cell_type": "markdown",
   "metadata": {},
   "source": [
    "# 4) Date Type & Conversion"
   ]
  },
  {
   "cell_type": "code",
   "execution_count": null,
   "metadata": {},
   "outputs": [],
   "source": [
    "#string\n",
    "x = \"Hello World\"\n",
    "x = str(\"Hello World\")\n",
    "#type(x) to check type, example:\n",
    "print(type(x))\n",
    "\n",
    "#int\n",
    "x = 20\n",
    "x = int(20)\n",
    "\n",
    "#float\n",
    "x = 20.5\n",
    "x = float(20.5)\n",
    "\n",
    "#complex, Complex numbers are specified as <real part>+ <imaginary part>j\n",
    "x = 1 + 2j\n",
    "x = complex(1j)\n",
    "\n",
    "#list\n",
    "# A list is a mutable, ordered sequence of items. As such, it can be indexed, sliced, \n",
    "# and changed. Each element can be accessed using its position in the list.\n",
    "xlist = [\"apple\", \"banana\", \"cherry\", \"cherry\"]\n",
    "x = list((\"apple\", \"banana\", \"cherry\"))\n",
    "\n",
    "#tuple\n",
    "# Think of them as similar to lists, but without the extensive functionality that the list class gives you. \n",
    "# One major feature of tuples is that they are immutable like strings i.e. you cannot modify tuples. \n",
    "xturple = (\"apple\", \"banana\", \"cherry\", \"cherry\")\n",
    "x = tuple((\"apple\", \"banana\", \"cherry\"))\n",
    "\n",
    "#set\n",
    "# Sets cannot have multiple occurrences of the same element, \n",
    "# it makes sets highly useful to efficiently remove duplicate values from a list or tuple \n",
    "# and to perform common math operations like unions and intersections.\n",
    "xset = {\"apple\", \"banana\", \"cherry\", \"cherry\"}\n",
    "x = set((\"apple\", \"banana\", \"cherry\"))\n",
    "print(xset) #only display unit values\n",
    "\n"
   ]
  },
  {
   "cell_type": "markdown",
   "metadata": {},
   "source": [
    " Lists and tuples are standard Python data types that store values in a sequence. <br>\n",
    " Sets are another standard Python data type that also store values. <br>\n",
    " The major difference is that sets, unlike lists or tuples, <br>\n",
    " cannot have multiple occurrences of the same element and store unordered values. <br>\n",
    " The main difference between lists and tuples is the fact that <br>\n",
    " Lists are mutable whereas tuples are immutable. <br>\n",
    " A mutable data type means that a python object of this type can be modified. <br>\n",
    " An immutable object can’t."
   ]
  },
  {
   "cell_type": "code",
   "execution_count": 46,
   "metadata": {},
   "outputs": [
    {
     "name": "stdout",
     "output_type": "stream",
     "text": [
      "<class 'str'>\n",
      "{'cherry', 'apple', 'banana'}\n"
     ]
    }
   ],
   "source": [
    "#dict, key value pairs\n",
    "#A dictionary is like an address-book where you can find the address or contact details of a person by knowing only his/her name i.e. \n",
    "#We associate keys (name) with values (details). \n",
    "#Note that the key must be unique just like you cannot find out the correct information if you have two persons with the exact same name.\n",
    "x = {\"name\" : \"John\", \"age\" : 36}\n",
    "x = dict(name=\"John\", age=36)\n",
    "\n",
    "#frozenset\n",
    "#Frozen set is just an immutable version of a Python set object. While elements of a set can be modified at any time, elements of the frozen set remain the same after creation.\n",
    "x = frozenset({\"apple\", \"banana\", \"cherry\"})\n",
    "\n",
    "#range, The range() function is used to generate a sequence of numbers over time\n",
    "x = range(6)\n",
    "\n",
    "#bool\n",
    "x = True\n",
    "x = bool(5)\n",
    "\n",
    "#bytes\n",
    "xbytes = b\"Hello\"\n",
    "x = bytes(5)\n",
    "\n",
    "#bytearray\n",
    "x = bytearray(5)\n",
    "\n",
    "#memoryview\n",
    "x = memoryview(bytes(5))"
   ]
  },
  {
   "cell_type": "markdown",
   "metadata": {},
   "source": [
    "# 5) Python Numbers\n",
    "\n",
    "There are three numeric types in Python: \n",
    "<br> int\n",
    "<br> float\n",
    "<br> complex"
   ]
  },
  {
   "cell_type": "code",
   "execution_count": 47,
   "metadata": {},
   "outputs": [
    {
     "name": "stdout",
     "output_type": "stream",
     "text": [
      "7\n"
     ]
    }
   ],
   "source": [
    "x = 1    # int, is a whole number, positive or negative, without decimals, of unlimited length.\n",
    "y = 2.8  # float, is a number, positive or negative, containing one or more decimals.\n",
    "z = 1j   # complex, are written with a \"j\" as the imaginary part:\n",
    "\n",
    "#random number\n",
    "import random\n",
    "print(random.randrange(1, 10))"
   ]
  },
  {
   "cell_type": "markdown",
   "metadata": {},
   "source": [
    "# 6) Python Casting\n",
    "Specify a Variable Type\n",
    "There may be times when you want to specify a type on to a variable. \n",
    "This can be done with casting. \n",
    "Python is an object-orientated language, \n",
    "and as such it uses classes to define data types, \n",
    "including its primitive types.\n",
    "\n",
    "Casting in python is therefore done using constructor functions:\n",
    "\n",
    "int() - constructs an integer number from an integer literal, a float literal (by rounding down to the previous whole number), or a string literal (providing the string represents a whole number)\n",
    "\n",
    "float() - constructs a float number from an integer literal, a float literal or a string literal (providing the string represents a float or an integer)\n",
    "\n",
    "str() - constructs a string from a wide variety of data types, including strings, integer literals and float literals"
   ]
  },
  {
   "cell_type": "code",
   "execution_count": 48,
   "metadata": {},
   "outputs": [],
   "source": [
    "x = int(1)   # x will be 1\n",
    "y = int(2.8) # y will be 2\n",
    "z = int(\"3\") # z will be 3\n",
    "\n",
    "x = float(1)     # x will be 1.0\n",
    "y = float(2.8)   # y will be 2.8\n",
    "z = float(\"3\")   # z will be 3.0\n",
    "w = float(\"4.2\") # w will be 4.2\n",
    "\n",
    "x = str(\"s1\") # x will be 's1'\n",
    "y = str(2)    # y will be '2'\n",
    "z = str(3.0)  # z will be '3.0'"
   ]
  },
  {
   "cell_type": "markdown",
   "metadata": {},
   "source": [
    "# 7) Python Strings\n",
    "String literals in python are surrounded by either single quotation marks, or double quotation marks.\n",
    "\n",
    "'hello' is the same as \"hello\".\n",
    "\n",
    "You can display a string literal with the print() function:"
   ]
  },
  {
   "cell_type": "code",
   "execution_count": 79,
   "metadata": {
    "scrolled": false
   },
   "outputs": [
    {
     "name": "stdout",
     "output_type": "stream",
     "text": [
      "Hello\n",
      "Hello\n",
      "Hello\n",
      "a1 Lorem ipsum dolor sit amet,\n",
      "consectetur adipiscing elit,\n",
      "sed do eiusmod tempor incididunt\n",
      "ut labore et dolore magna aliqua.\n",
      "a2 Lorem ipsum dolor sit amet,\n",
      "consectetur adipiscing elit,\n",
      "sed do eiusmod tempor incididunt\n",
      "ut labore et dolore magna aliqua.\n",
      "a3 e\n",
      "b1 llo\n",
      "b2 orl\n",
      "a4 13\n",
      "a5 Hello, World!\n",
      "a6 hello, world!\n",
      "a7 HELLO, WORLD!\n",
      "a8 Jello, World!\n",
      "['Hello', ' World!']\n",
      "True\n",
      "False\n",
      "HelloWorld\n",
      "Hello World\n",
      "My name is John, and I am 36, and my favorite no is 77\n",
      "I want to pay 49.95 dollars for 3 pieces of item 567.\n"
     ]
    }
   ],
   "source": [
    "print(\"Hello\")\n",
    "print('Hello')\n",
    "\n",
    "#Assign String to a Variable\n",
    "a = \"Hello\"\n",
    "print(a)\n",
    "\n",
    "#Multiline Strings, You can assign a multiline string to a variable by using three quotes:\n",
    "a1 = \"\"\"Lorem ipsum dolor sit amet,\n",
    "consectetur adipiscing elit,\n",
    "sed do eiusmod tempor incididunt\n",
    "ut labore et dolore magna aliqua.\"\"\"\n",
    "print('a1 ' + a1)\n",
    "\n",
    "#Or three single quotes:\n",
    "a2 = '''Lorem ipsum dolor sit amet,\n",
    "consectetur adipiscing elit,\n",
    "sed do eiusmod tempor incididunt\n",
    "ut labore et dolore magna aliqua.'''\n",
    "print('a2 ' + a2)\n",
    "\n",
    "#Strings are Arrays, Square brackets can be used to access elements of the string.\n",
    "a3 = \"Hello, World!\"\n",
    "print('a3 ' + a3[1])\n",
    "\n",
    "#Slicing, Specify the start index and the end index, separated by a colon, to return a part of the string.\n",
    "b1 = \"Hello, World!\"\n",
    "print('b1 ' + b1[2:5])\n",
    "\n",
    "#Negative Indexing, Use negative indexes to start the slice from the end of the string:\n",
    "b2 = \"Hello, World!\"\n",
    "print('b2 ' + b2[-5:-2])\n",
    "\n",
    "#String Length, To get the length of a string, use the len() function.\n",
    "a4 = \"Hello, World!\"\n",
    "print('a4 ' + str(len(a4)))\n",
    "\n",
    "#String Methods, \n",
    "#The strip() method removes any whitespace from the beginning or the end:\n",
    "a5 = \" Hello, World!     \"\n",
    "print('a5 ' + a5.strip()) # returns \"Hello, World!\"\n",
    "\n",
    "#The lower() method returns the string in lower case:\n",
    "a6 = \"Hello, World!\"\n",
    "print('a6 ' + a6.lower())\n",
    "\n",
    "#The upper() method returns the string in upper case:\n",
    "a7 = \"Hello, World!\"\n",
    "print('a7 ' + a7.upper())\n",
    "\n",
    "#The replace() method replaces a string with another string: (First old, second New)\n",
    "a8 = \"Hello, World!\"\n",
    "print('a8 ' + a8.replace(\"H\", \"J\"))\n",
    "\n",
    "#The split() method splits the string into substrings if it finds instances of the separator:\n",
    "a9 = \"Hello, World!\"\n",
    "print(a9.split(\",\")) # returns ['Hello', ' World!']\n",
    "\n",
    "# Check if the phrase \"ain\" is present in the following text:\n",
    "txt = \"The rain in Spain stays mainly in the plain\"\n",
    "a10 = \"ain\" in txt\n",
    "print(a10)\n",
    "\n",
    "# Check if the phrase \"ain\" is NOT present in the following text:\n",
    "txt2 = \"The rassin in Spain stays mainly in the plain\"\n",
    "a11 = \"ain\" not in txt2\n",
    "print(a11) \n",
    "\n",
    "# String Concatenation, Merge variable a with variable b into variable c:\n",
    "a = \"Hello\"\n",
    "b = \"World\"\n",
    "c = a + b\n",
    "print(c)\n",
    "\n",
    "#To add a space between them, add a \" \":\n",
    "a = \"Hello\"\n",
    "b = \"World\"\n",
    "c = a + \" \" + b\n",
    "print(c)\n",
    "\n",
    "#Use the format() method to insert numbers into strings\n",
    "age = 36\n",
    "number = 77\n",
    "txt = \"My name is John, and I am {}, and my favorite no is {}\"\n",
    "print(txt.format(age, number))\n",
    "\n",
    "#You can use index numbers {0} to be sure the arguments are placed in the correct placeholders:\n",
    "quantity = 3\n",
    "itemno = 567\n",
    "price = 49.95\n",
    "myorder = \"I want to pay {2} dollars for {0} pieces of item {1}.\"\n",
    "print(myorder.format(quantity, itemno, price))\n",
    "\n",
    "#The escape character allows you to use double quotes when you normally would not be allowed:\n",
    "txt = \"We are the so-called \\\"Vikings\\\" from the north.\""
   ]
  },
  {
   "cell_type": "markdown",
   "metadata": {},
   "source": [
    "# 8) Python Booleans"
   ]
  },
  {
   "cell_type": "code",
   "execution_count": null,
   "metadata": {},
   "outputs": [],
   "source": [
    "#Print a message based on whether the condition is True or False:\n",
    "a = 200\n",
    "b = 33\n",
    "\n",
    "if b > a:\n",
    "  print(\"b is greater than a\")\n",
    "else:\n",
    "  print(\"b is not greater than a\")\n",
    "\n",
    "#Print a message based on whether the condition is True or False:\n",
    "print(bool(\"Hello\"))\n",
    "print(bool(15))\n",
    "\n",
    "#Evaluate two variables:\n",
    "x = \"Hello\"\n",
    "y = 15\n",
    "\n",
    "print(bool(x))\n",
    "print(bool(y))"
   ]
  },
  {
   "cell_type": "markdown",
   "metadata": {},
   "source": [
    "Most Values are True\n",
    "Almost any value is evaluated to True if it has some sort of content.\n",
    "\n",
    "Any string is True, except empty strings.\n",
    "\n",
    "Any number is True, except 0.\n",
    "\n",
    "Any list, tuple, set, and dictionary are True, except empty ones.\n",
    "\n",
    "Some Values are False \n",
    "\n",
    "In fact, there are not many values that evaluates to False, except empty values, such as (), [], {}, \"\", the number 0, and the value None. \n",
    "\n",
    "And of course the value False evaluates to False."
   ]
  },
  {
   "cell_type": "code",
   "execution_count": 80,
   "metadata": {},
   "outputs": [
    {
     "data": {
      "text/plain": [
       "False"
      ]
     },
     "execution_count": 80,
     "metadata": {},
     "output_type": "execute_result"
    },
    {
     "data": {
      "text/plain": [
       "False"
      ]
     },
     "execution_count": 80,
     "metadata": {},
     "output_type": "execute_result"
    },
    {
     "data": {
      "text/plain": [
       "False"
      ]
     },
     "execution_count": 80,
     "metadata": {},
     "output_type": "execute_result"
    },
    {
     "data": {
      "text/plain": [
       "False"
      ]
     },
     "execution_count": 80,
     "metadata": {},
     "output_type": "execute_result"
    },
    {
     "data": {
      "text/plain": [
       "False"
      ]
     },
     "execution_count": 80,
     "metadata": {},
     "output_type": "execute_result"
    },
    {
     "data": {
      "text/plain": [
       "False"
      ]
     },
     "execution_count": 80,
     "metadata": {},
     "output_type": "execute_result"
    },
    {
     "data": {
      "text/plain": [
       "False"
      ]
     },
     "execution_count": 80,
     "metadata": {},
     "output_type": "execute_result"
    }
   ],
   "source": [
    "#The following will return False:\n",
    "bool(False)\n",
    "bool(None)\n",
    "bool(0)\n",
    "bool(\"\")\n",
    "bool(())\n",
    "bool([])\n",
    "bool({})"
   ]
  },
  {
   "cell_type": "markdown",
   "metadata": {},
   "source": [
    "One more value, or object in this case, evaluates to False, and that is if you have an object that is made from a class with a __len__ function that returns 0 or False:"
   ]
  },
  {
   "cell_type": "code",
   "execution_count": 81,
   "metadata": {},
   "outputs": [
    {
     "name": "stdout",
     "output_type": "stream",
     "text": [
      "False\n"
     ]
    }
   ],
   "source": [
    "class myclass():\n",
    "  def __len__(self):\n",
    "    return 0\n",
    "\n",
    "myobj = myclass()\n",
    "print(bool(myobj))"
   ]
  },
  {
   "cell_type": "code",
   "execution_count": 83,
   "metadata": {},
   "outputs": [
    {
     "name": "stdout",
     "output_type": "stream",
     "text": [
      "True\n",
      "YES!\n"
     ]
    }
   ],
   "source": [
    "#Functions can Return a Boolean\n",
    "def myFunction() :\n",
    "  return True\n",
    "\n",
    "print(myFunction())\n",
    "\n",
    "def myFunction() :\n",
    "  return True\n",
    "\n",
    "if myFunction():\n",
    "  print(\"YES!\")\n",
    "else:\n",
    "  print(\"NO!\")"
   ]
  },
  {
   "cell_type": "markdown",
   "metadata": {},
   "source": [
    "Python also has many built-in functions that returns a boolean value, like the isinstance() function, which can be used to determine if an object is of a certain data type:"
   ]
  },
  {
   "cell_type": "code",
   "execution_count": 84,
   "metadata": {},
   "outputs": [
    {
     "name": "stdout",
     "output_type": "stream",
     "text": [
      "True\n"
     ]
    }
   ],
   "source": [
    "x = 200\n",
    "print(isinstance(x, int))"
   ]
  },
  {
   "cell_type": "markdown",
   "metadata": {},
   "source": [
    "# 9) Python Operators\n",
    "\n",
    "Python divides the operators in the following groups:\n",
    "\n",
    "Arithmetic operators <br>\n",
    "Assignment operators <br>\n",
    "Comparison operators <br>\n",
    "Logical operators <br>\n",
    "Identity operators <br>\n",
    "Membership operators <br>\n",
    "Bitwise operators\n",
    "\n",
    "| Operator | Name |\tExample\t| \n",
    "| --- | --- | --- |\n",
    "| +\t| Addition | \tx + y\t| \n",
    "| -\t| Subtraction | x - y\t| \n",
    "| *\t| Multiplication\t| x * y\t| \n",
    "| /\t| Division | x / y | \n",
    "| %\t| Modulus | x % y\t| \n",
    "| ** | Exponentiation |\tx ** y\t| \n",
    "| // | Floor division | x // y  | \n",
    "\n",
    "| Operator| \tExample| Same As |\n",
    "| --- | --- | --- |\n",
    "| = | x = 5\t| x = 5\t|\n",
    "| +=\t|x += 3\t| x = x + 3 |\n",
    "| -=\t|x -= 3\t| x = x - 3 |\t\n",
    "| *=\t|x *= 3\t| x = x * 3|\t\n",
    "| /=\t|x /= 3\t| x = x / 3|\t\n",
    "| %=\t|x %= 3\t| x = x % 3|\t\n",
    "| //=\t|x //= 3\t|x = x // 3|\t\n",
    "| **=\t|x **= 3\t|x = x ** 3|\t\n",
    "| &=\t|x &= 3\t| x = x & 3|\t\n",
    "|=\t|x |= 3\t| x = x | 3\t|\n",
    "|^=\t| x ^= 3 |\tx = x ^ 3\t|\n",
    "| >>= |\tx >>= 3 | x = x >> 3\t|\n",
    "| <<= |\tx <<= 3\t| x = x << 3 |\n",
    "\n",
    "|Operator\t| Name\t| Example\t|\n",
    "| --- | --- | --- |\n",
    "|==\t|Equal\t|x == y\t|\n",
    "|!=\t|Not equal\t|x != y\t|\n",
    "|>\t|Greater than|\tx > y\t|\n",
    "|<\t|Less than|x < y\t|\n",
    "|>=\t|Greater than or equal to\t|x >= y\t|\n",
    "|<=\t|Less than or equal to\t|x <= y|\n",
    "\n",
    "|Operator\t|Description|\tExample\t|\n",
    "| --- | --- | --- |\n",
    "|and \t|Returns True if both statements are true|\tx < 5 and  x < 10\t|\n",
    "|or\t|Returns True if one of the statements is true|\tx < 5 or x < 4\t|\n",
    "|not|\tReverse the result, returns False if the result is true\t| not(x < 5 and x < 10)|\n",
    "\n",
    "|Operator|\tDescription|Example\t|\n",
    "| --- | --- | --- |\n",
    "|is \t|Returns True if both variables are the same object|\tx is y\t|\n",
    "|is not|\tReturns True if both variables are not the same object\t|x is not y|\n",
    "\n",
    "\n",
    "|Operator\t|Description|\tExample|\n",
    "| --- | --- | --- |\n",
    "|in \t|Returns True if a sequence with the specified value is present in the object|\tx in y|\n",
    "|not in\t|Returns True if a sequence with the specified value is not present in the object |x not in y|\n",
    "\n",
    "|Operator\t|Name\t|Description|\n",
    "| --- | --- | --- |\n",
    "|& \t|AND\t|Sets each bit to 1 if both bits are 1|\n",
    "||\t|OR\t|Sets each bit to 1 if one of two bits is 1|\n",
    "| ^\t|XOR|\tSets each bit to 1 if only one of two bits is 1|\n",
    "|~ \t|NOT|Inverts all the bits|\n",
    "|<<\t|Zero fill left shift|\tShift left by pushing zeros in from the right and let the leftmost bits fall off|\n",
    "|>>\t|Signed right shift|\tShift right by pushing copies of the leftmost bit in from the left, and let the rightmost bits fall off|"
   ]
  },
  {
   "cell_type": "markdown",
   "metadata": {},
   "source": [
    "# 10) Python Collections (Arrays)\n",
    "\n",
    "There are four collection data types in the Python programming language:\n",
    "\n",
    "List is a collection which is ordered and changeable. Allows duplicate members. <br>\n",
    "Tuple is a collection which is ordered and unchangeable. Allows duplicate members. <br>\n",
    "Set is a collection which is unordered and unindexed. No duplicate members. <br>\n",
    "Dictionary is a collection which is unordered, changeable and indexed. No duplicate members. <br>\n",
    "\n",
    "When choosing a collection type, it is useful to understand the properties of that type. Choosing the right type for a particular data set could mean retention of meaning, and, it could mean an increase in efficiency or security."
   ]
  },
  {
   "cell_type": "markdown",
   "metadata": {},
   "source": [
    "## 10.1) List\n",
    "A list is a collection which is ordered and changeable. In Python lists are written with square brackets."
   ]
  },
  {
   "cell_type": "code",
   "execution_count": 92,
   "metadata": {},
   "outputs": [
    {
     "name": "stdout",
     "output_type": "stream",
     "text": [
      "['apple', 'banana', 'cherry']\n",
      "banana\n",
      "cherry\n",
      "['cherry', 'orange', 'kiwi']\n",
      "['apple', 'banana', 'cherry', 'orange']\n",
      "['cherry', 'orange', 'kiwi', 'melon', 'mango']\n",
      "['orange', 'kiwi', 'melon']\n",
      "['apple', 'blackcurrant', 'cherry']\n",
      "apple\n",
      "banana\n",
      "cherry\n",
      "Yes, 'apple' is in the fruits list\n",
      "3\n",
      "['apple', 'banana', 'cherry', 'orange']\n",
      "['apple', 'banana', 'orange', 'cherry']\n",
      "['apple', 'cherry']\n"
     ]
    },
    {
     "data": {
      "text/plain": [
       "'cherry'"
      ]
     },
     "execution_count": 92,
     "metadata": {},
     "output_type": "execute_result"
    },
    {
     "name": "stdout",
     "output_type": "stream",
     "text": [
      "['apple', 'banana']\n",
      "['banana', 'cherry']\n",
      "[]\n",
      "['apple', 'banana', 'cherry']\n",
      "['apple', 'banana', 'cherry']\n",
      "['a', 'b', 'c', 1, 2, 3]\n"
     ]
    }
   ],
   "source": [
    "# Create a List:\n",
    "thislist = [\"apple\", \"banana\", \"cherry\"]\n",
    "print(thislist)\n",
    "\n",
    "# Print the second item of the list:\n",
    "thislist = [\"apple\", \"banana\", \"cherry\"]\n",
    "print(thislist[1])\n",
    "\n",
    "#Negative indexing means beginning from the end, -1 refers to the last item, -2 refers to the second last item etc.\n",
    "thislist = [\"apple\", \"banana\", \"cherry\"]\n",
    "print(thislist[-1])\n",
    "\n",
    "# Range of Indexes, Return the third, fourth, and fifth item:\n",
    "thislist = [\"apple\", \"banana\", \"cherry\", \"orange\", \"kiwi\", \"melon\", \"mango\"]\n",
    "print(thislist[2:5])\n",
    "\n",
    "#By leaving out the start value, the range will start at the first item:\n",
    "#This example returns the items from the beginning to \"orange\":\n",
    "thislist = [\"apple\", \"banana\", \"cherry\", \"orange\", \"kiwi\", \"melon\", \"mango\"]\n",
    "print(thislist[:4])\n",
    "\n",
    "# By leaving out the end value, the range will go on to the end of the list:\n",
    "# This example returns the items from \"cherry\" and to the end:\n",
    "thislist = [\"apple\", \"banana\", \"cherry\", \"orange\", \"kiwi\", \"melon\", \"mango\"]\n",
    "print(thislist[2:])\n",
    "\n",
    "# Specify negative indexes if you want to start the search from the end of the list:\n",
    "# This example returns the items from index -4 (included) to index -1 (excluded)\n",
    "thislist = [\"apple\", \"banana\", \"cherry\", \"orange\", \"kiwi\", \"melon\", \"mango\"]\n",
    "print(thislist[-4:-1])\n",
    "\n",
    "# Change Item Value\n",
    "# To change the value of a specific item, refer to the index number:\n",
    "thislist = [\"apple\", \"banana\", \"cherry\"]\n",
    "thislist[1] = \"blackcurrant\"\n",
    "print(thislist)\n",
    "\n",
    "# Loop Through a List\n",
    "thislist = [\"apple\", \"banana\", \"cherry\"]\n",
    "for x in thislist:\n",
    "  print(x)\n",
    "\n",
    "# Check if Item Exists\n",
    "# To determine if a specified item is present in a list use the in keyword:\n",
    "thislist = [\"apple\", \"banana\", \"cherry\"]\n",
    "if \"apple\" in thislist:\n",
    "  print(\"Yes, 'apple' is in the fruits list\")\n",
    "\n",
    "# List Length\n",
    "# To determine how many items a list has, use the len() function:\n",
    "thislist = [\"apple\", \"banana\", \"cherry\"]\n",
    "print(len(thislist))\n",
    "\n",
    "# Add Items\n",
    "# To add an item to the end of the list, use the append() method:\n",
    "thislist = [\"apple\", \"banana\", \"cherry\"]\n",
    "thislist.append(\"orange\")\n",
    "print(thislist)\n",
    "\n",
    "# Insert an item as the second position:\n",
    "thislist = [\"apple\", \"banana\", \"cherry\"]\n",
    "thislist.insert(2, \"orange\")\n",
    "print(thislist)\n",
    "\n",
    "# The remove() method removes the specified item:\n",
    "thislist = [\"apple\", \"banana\", \"cherry\"]\n",
    "thislist.remove(\"banana\")\n",
    "print(thislist)\n",
    "\n",
    "# The pop() method removes the specified index, (or the last item if index is not specified):\n",
    "thislist = [\"apple\", \"banana\", \"cherry\"]\n",
    "thislist.pop()\n",
    "print(thislist)\n",
    "\n",
    "# The del keyword removes the specified index:\n",
    "thislist = [\"apple\", \"banana\", \"cherry\"]\n",
    "del thislist[0]\n",
    "print(thislist)\n",
    "\n",
    "# The del keyword can also delete the list completely:\n",
    "thislist = [\"apple\", \"banana\", \"cherry\"]\n",
    "del thislist\n",
    "\n",
    "# The clear() method empties the list:\n",
    "thislist = [\"apple\", \"banana\", \"cherry\"]\n",
    "thislist.clear()\n",
    "print(thislist)\n",
    "\n",
    "# Make a copy of a list with the copy() method:\n",
    "thislist = [\"apple\", \"banana\", \"cherry\"]\n",
    "mylist = thislist.copy()\n",
    "print(mylist)\n",
    "\n",
    "# Make a copy of a list with the list() method:\n",
    "thislist = [\"apple\", \"banana\", \"cherry\"]\n",
    "mylist = list(thislist)\n",
    "print(mylist)\n",
    "\n",
    "# Join Two Lists\n",
    "list1 = [\"a\", \"b\" , \"c\"]\n",
    "list2 = [1, 2, 3]\n",
    "\n",
    "list3 = list1 + list2\n",
    "print(list3)\n",
    "\n",
    "# Append list2 into list1:\n",
    "list1 = [\"a\", \"b\" , \"c\"]\n",
    "list2 = [1, 2, 3]\n",
    "\n",
    "for x in list2:\n",
    "  list1.append(x)\n",
    "\n",
    "print(list1)\n",
    "\n",
    "# Use the extend() method to add list2 at the end of list1:\n",
    "list1 = [\"a\", \"b\" , \"c\"]\n",
    "list2 = [1, 2, 3]\n",
    "\n",
    "list1.extend(list2)\n",
    "print(list1)\n",
    "\n",
    "# Using the list() constructor to make a List:\n",
    "thislist = list((\"apple\", \"banana\", \"cherry\")) # note the double round-brackets\n",
    "print(thislist)"
   ]
  },
  {
   "cell_type": "markdown",
   "metadata": {},
   "source": [
    "| Method\t| Description|\n",
    "| ----------| -----------| \n",
    "| append()\t| Adds an element at the end of the list| \n",
    "| clear()\t| Removes all the elements from the list| \n",
    "| copy()\t| Returns a copy of the list| \n",
    "| count()\t| Returns the number of elements with the specified value| \n",
    "| extend()\t| Add the elements of a list (or any iterable), to the end of the current list| \n",
    "| index()\t| Returns the index of the first element with the specified value| \n",
    "| insert()\t| Adds an element at the specified position| \n",
    "| pop()\t| Removes the element at the specified position| \n",
    "| remove()\t| Removes the item with the specified value| \n",
    "| reverse()\t| Reverses the order of the list| \n",
    "| sort()\t| Sorts the list| \n"
   ]
  },
  {
   "cell_type": "markdown",
   "metadata": {},
   "source": [
    "## 10.2) Python Tuples\n",
    "A tuple is a collection which is ordered and unchangeable. In Python tuples are written with round brackets."
   ]
  },
  {
   "cell_type": "code",
   "execution_count": 93,
   "metadata": {},
   "outputs": [
    {
     "name": "stdout",
     "output_type": "stream",
     "text": [
      "('apple', 'banana', 'cherry')\n",
      "banana\n",
      "cherry\n",
      "('cherry', 'orange', 'kiwi')\n",
      "('orange', 'kiwi', 'melon')\n"
     ]
    }
   ],
   "source": [
    "# Create a Tuple:\n",
    "thistuple = (\"apple\", \"banana\", \"cherry\")\n",
    "print(thistuple)\n",
    "\n",
    "# Print the second item in the tuple:\n",
    "thistuple = (\"apple\", \"banana\", \"cherry\")\n",
    "print(thistuple[1])\n",
    "\n",
    "# Print the last item of the tuple:\n",
    "thistuple = (\"apple\", \"banana\", \"cherry\")\n",
    "print(thistuple[-1])\n",
    "\n",
    "# Return the third, fourth, and fifth item:\n",
    "thistuple = (\"apple\", \"banana\", \"cherry\", \"orange\", \"kiwi\", \"melon\", \"mango\")\n",
    "print(thistuple[2:5])\n",
    "\n",
    "# This example returns the items from index -4 (included) to index -1 (excluded)\n",
    "thistuple = (\"apple\", \"banana\", \"cherry\", \"orange\", \"kiwi\", \"melon\", \"mango\")\n",
    "print(thistuple[-4:-1])"
   ]
  },
  {
   "cell_type": "markdown",
   "metadata": {},
   "source": [
    "Change Tuple Values <br>\n",
    "Once a tuple is created, you cannot change its values. \n",
    "\n",
    "Tuples are unchangeable, or immutable as it also is called.\n",
    "\n",
    "But there is a workaround. You can convert the tuple into a list, change the list, and convert the list back into a tuple."
   ]
  },
  {
   "cell_type": "code",
   "execution_count": 94,
   "metadata": {},
   "outputs": [
    {
     "name": "stdout",
     "output_type": "stream",
     "text": [
      "('apple', 'kiwi', 'cherry')\n"
     ]
    }
   ],
   "source": [
    "# Convert the tuple into a list to be able to change it:\n",
    "x = (\"apple\", \"banana\", \"cherry\")\n",
    "y = list(x)\n",
    "y[1] = \"kiwi\"\n",
    "x = tuple(y)\n",
    "\n",
    "print(x)"
   ]
  },
  {
   "cell_type": "code",
   "execution_count": 95,
   "metadata": {},
   "outputs": [
    {
     "name": "stdout",
     "output_type": "stream",
     "text": [
      "apple\n",
      "banana\n",
      "cherry\n",
      "Yes, 'apple' is in the fruits tuple\n",
      "3\n"
     ]
    }
   ],
   "source": [
    "# Iterate through the items and print the values:\n",
    "thistuple = (\"apple\", \"banana\", \"cherry\")\n",
    "for x in thistuple:\n",
    "  print(x)\n",
    "\n",
    "# Check if \"apple\" is present in the tuple:\n",
    "thistuple = (\"apple\", \"banana\", \"cherry\")\n",
    "if \"apple\" in thistuple:\n",
    "  print(\"Yes, 'apple' is in the fruits tuple\")\n",
    "\n",
    "# Print the number of items in the tuple:\n",
    "thistuple = (\"apple\", \"banana\", \"cherry\")\n",
    "print(len(thistuple))\n",
    "\n",
    "\n",
    "# Add Items\n",
    "# Once a tuple is created, you cannot add items to it. Tuples are unchangeable.\n",
    "# thistuple = (\"apple\", \"banana\", \"cherry\")\n",
    "# thistuple[3] = \"orange\" # This will raise an error\n",
    "# print(thistuple)"
   ]
  },
  {
   "cell_type": "code",
   "execution_count": 96,
   "metadata": {},
   "outputs": [
    {
     "name": "stdout",
     "output_type": "stream",
     "text": [
      "<class 'tuple'>\n",
      "<class 'str'>\n",
      "('a', 'b', 'c', 1, 2, 3)\n",
      "('apple', 'banana', 'cherry')\n"
     ]
    }
   ],
   "source": [
    "# Create Tuple With One Item\n",
    "# To create a tuple with only one item, you have to add a comma after the item, \n",
    "# otherwise Python will not recognize it as a tuple.\n",
    "# One item tuple, remember the commma:\n",
    "\n",
    "thistuple = (\"apple\",)\n",
    "print(type(thistuple))\n",
    "\n",
    "#NOT a tuple\n",
    "thistuple = (\"apple\")\n",
    "print(type(thistuple))\n",
    "\n",
    "# The del keyword can delete the tuple completely:\n",
    "thistuple = (\"apple\", \"banana\", \"cherry\")\n",
    "del thistuple\n",
    "# print(thistuple) #this will raise an error because the tuple no longer exists\n",
    "\n",
    "# Join two tuples:\n",
    "tuple1 = (\"a\", \"b\" , \"c\")\n",
    "tuple2 = (1, 2, 3)\n",
    "\n",
    "tuple3 = tuple1 + tuple2\n",
    "print(tuple3)\n",
    "\n",
    "# Using the tuple() method to make a tuple:\n",
    "thistuple = tuple((\"apple\", \"banana\", \"cherry\")) # note the double round-brackets\n",
    "print(thistuple)      "
   ]
  },
  {
   "cell_type": "markdown",
   "metadata": {},
   "source": [
    "|Method\t| Description |\n",
    "|-------|--------------|\n",
    "|count()|Returns the number of times a specified value occurs in a tuple |\n",
    "|index()|Searches the tuple for a specified value and returns the position of where it was found|"
   ]
  },
  {
   "cell_type": "markdown",
   "metadata": {},
   "source": [
    "## 10.3) Python Sets\n",
    "A set is a collection which is unordered and unindexed. In Python sets are written with curly brackets."
   ]
  },
  {
   "cell_type": "code",
   "execution_count": 103,
   "metadata": {},
   "outputs": [
    {
     "name": "stdout",
     "output_type": "stream",
     "text": [
      "{'cherry', 'apple', 'banana'}\n",
      "cherry\n",
      "apple\n",
      "banana\n",
      "True\n",
      "{'cherry', 'orange', 'apple', 'banana'}\n",
      "{'orange', 'apple', 'cherry', 'grapes', 'mango', 'banana'}\n",
      "3\n",
      "{'cherry', 'apple'}\n",
      "{'cherry', 'apple'}\n",
      "cherry\n",
      "{'apple', 'banana'}\n",
      "set()\n",
      "{'c', 1, 2, 3, 'a', 'b'}\n",
      "{'c', 1, 2, 3, 'a', 'b'}\n",
      "{'cherry', 'apple', 'banana'}\n"
     ]
    }
   ],
   "source": [
    "# Create a Set:\n",
    "thisset = {\"apple\", \"banana\", \"cherry\"}\n",
    "print(thisset)\n",
    "\n",
    "# Loop through the set, and print the values:\n",
    "thisset = {\"apple\", \"banana\", \"cherry\"}\n",
    "for x in thisset:\n",
    "  print(x)\n",
    "\n",
    "# Check if \"banana\" is present in the set:\n",
    "thisset = {\"apple\", \"banana\", \"cherry\"}\n",
    "print(\"banana\" in thisset)\n",
    "\n",
    "# Add an item to a set, using the add() method:\n",
    "thisset = {\"apple\", \"banana\", \"cherry\"}\n",
    "thisset.add(\"orange\")\n",
    "print(thisset)\n",
    "\n",
    "# Add multiple items to a set, using the update() method:\n",
    "thisset = {\"apple\", \"banana\", \"cherry\"}\n",
    "thisset.update([\"orange\", \"mango\", \"grapes\"])\n",
    "print(thisset)\n",
    "\n",
    "# Get the number of items in a set:\n",
    "thisset = {\"apple\", \"banana\", \"cherry\"}\n",
    "print(len(thisset))\n",
    "\n",
    "# Remove \"banana\" by using the remove() method:\n",
    "# Note: If the item to remove does not exist, remove() will raise an error.\n",
    "thisset = {\"apple\", \"banana\", \"cherry\"}\n",
    "thisset.remove(\"banana\")\n",
    "print(thisset)\n",
    "\n",
    "# Remove \"banana\" by using the discard() method:\n",
    "# Note: If the item to remove does not exist, discard() will NOT raise an error.\n",
    "thisset = {\"apple\", \"banana\", \"cherry\"}\n",
    "thisset.discard(\"banana\")\n",
    "print(thisset)\n",
    "\n",
    "# Remove the last item by using the pop() method:\n",
    "thisset = {\"apple\", \"banana\", \"cherry\"}\n",
    "x = thisset.pop()\n",
    "print(x)\n",
    "print(thisset)\n",
    "\n",
    "# The clear() method empties the set:\n",
    "thisset = {\"apple\", \"banana\", \"cherry\"}\n",
    "thisset.clear()\n",
    "print(thisset)\n",
    "\n",
    "# The del keyword will delete the set completely:\n",
    "thisset = {\"apple\", \"banana\", \"cherry\"}\n",
    "del thisset\n",
    "\n",
    "# Both union() and update() will exclude any duplicate items.\n",
    "# The union() method returns a new set with all items from both sets:\n",
    "set1 = {\"a\", \"b\" , \"c\"}\n",
    "set2 = {1, 2, 3}\n",
    "\n",
    "set3 = set1.union(set2)\n",
    "print(set3)\n",
    "\n",
    "# The update() method inserts the items in set2 into set1:\n",
    "set1 = {\"a\", \"b\" , \"c\"}\n",
    "set2 = {1, 2, 3}\n",
    "\n",
    "set1.update(set2)\n",
    "print(set1)\n",
    "\n",
    "# Using the set() constructor to make a set:\n",
    "thisset = set((\"apple\", \"banana\", \"cherry\")) # note the double round-brackets\n",
    "print(thisset)"
   ]
  },
  {
   "cell_type": "markdown",
   "metadata": {},
   "source": [
    "|Method|\tDescription |\n",
    "|-------|-----------|\n",
    "|add()\t|Adds an element to the set|\n",
    "|clear()|\tRemoves all the elements from the set|\n",
    "|copy()|\tReturns a copy of the set|\n",
    "|difference()|\tReturns a set containing the difference between two or more sets|\n",
    "|difference_update()\t|Removes the items in this set that are also included in another, |specified set|\n",
    "|discard()\t|Remove the specified item|\n",
    "|intersection()|\tReturns a set, that is the intersection of two other sets|\n",
    "|intersection_update()|\tRemoves the items in this set that are not present in other, |specified set(s)|\n",
    "|isdisjoint()|\tReturns whether two sets have a intersection or not|\n",
    "|issubset()|\tReturns whether another set contains this set or not|\n",
    "|issuperset()|\tReturns whether this set contains another set or not|\n",
    "|pop()\t|Removes an element from the set|\n",
    "|remove()\t|Removes the specified element|\n",
    "|symmetric_difference()|\tReturns a set with the symmetric differences of two sets|\n",
    "|symmetric_difference_update()\t|inserts the symmetric differences from this set and another|\n",
    "|union()\t|Return a set containing the union of sets|\n",
    "|update()\t|Update the set with the union of this set and others|"
   ]
  },
  {
   "cell_type": "markdown",
   "metadata": {},
   "source": [
    "## 10.4) Python Dictionaries\n",
    "A dictionary is a collection which is unordered, changeable and indexed. In Python dictionaries are written with curly brackets, and they have keys and values."
   ]
  },
  {
   "cell_type": "code",
   "execution_count": 124,
   "metadata": {},
   "outputs": [
    {
     "name": "stdout",
     "output_type": "stream",
     "text": [
      "Mustang\n",
      "Ford\n",
      "key: brand\n",
      "key: model\n",
      "key: year\n",
      "values: Ford\n",
      "values: Mustang\n",
      "values: 2018\n",
      "values2: Ford\n",
      "values2: Mustang\n",
      "values2: 2018\n",
      "key: brand value: Ford\n",
      "key: model value: Mustang\n",
      "key: year value: 2018\n",
      "Yes, 'model' is one of the keys in the thisdict dictionary\n",
      "Yes, 'Ford' is one of the values in the thisdict dictionary\n",
      "3\n",
      "{'brand': 'Ford', 'model': 'Mustang', 'year': 1964, 'color': 'red'}\n"
     ]
    },
    {
     "data": {
      "text/plain": [
       "'Mustang'"
      ]
     },
     "execution_count": 124,
     "metadata": {},
     "output_type": "execute_result"
    },
    {
     "name": "stdout",
     "output_type": "stream",
     "text": [
      "{'brand': 'Ford', 'year': 1964}\n"
     ]
    },
    {
     "data": {
      "text/plain": [
       "('year', 1964)"
      ]
     },
     "execution_count": 124,
     "metadata": {},
     "output_type": "execute_result"
    },
    {
     "name": "stdout",
     "output_type": "stream",
     "text": [
      "{'brand': 'Ford', 'model': 'Mustang'}\n",
      "{'brand': 'Ford', 'year': 1964}\n",
      "{}\n",
      "{'brand': 'Ford', 'model': 'Mustang', 'year': 1964}\n",
      "{'brand': 'Ford', 'model': 'Mustang', 'year': 1964}\n"
     ]
    }
   ],
   "source": [
    "thisdict =\t{\n",
    "  \"brand\": \"Ford\",\n",
    "  \"model\": \"Mustang\",\n",
    "  \"year\": 1964\n",
    "}\n",
    "\n",
    "# Get the value of the \"model\" key:\n",
    "x = thisdict[\"model\"]\n",
    "print(x)\n",
    "\n",
    "# There is also a method called get() that will give you the same result:\n",
    "# Get the value of the \"brand\" key:\n",
    "x = thisdict.get(\"brand\")   \n",
    "print(x)\n",
    "\n",
    "# Change the \"year\" to 2018:\n",
    "thisdict = {\n",
    "  \"brand\": \"Ford\",\n",
    "  \"model\": \"Mustang\",\n",
    "  \"year\": 1964\n",
    "}\n",
    "thisdict[\"year\"] = 2018\n",
    "\n",
    "# Print all key names in the dictionary, one by one:\n",
    "for x in thisdict:\n",
    "  print('key: ' + x)\n",
    "\n",
    "# Print all values in the dictionary, one by one:\n",
    "for x in thisdict:\n",
    "  print('values: ' + str(thisdict[x]))\n",
    "\n",
    "# You can also use the values() method to return values of a dictionary:\n",
    "for x in thisdict.values():\n",
    "  print('values2: ' + str(x))\n",
    "\n",
    "# Loop through both keys and values, by using the items() method:\n",
    "for x, y in thisdict.items():\n",
    "  print('key: '+ str(x), 'value: ' + str(y))\n",
    "\n",
    "# Check if \"model\" is present in the dictionary:\n",
    "thisdict = {\n",
    "  \"brand\": \"Ford\",\n",
    "  \"model\": \"Mustang\",\n",
    "  \"year\": 1964\n",
    "}\n",
    "if \"model\" in thisdict:\n",
    "  print(\"Yes, 'model' is one of the keys in the thisdict dictionary\")\n",
    "if \"Ford\" in thisdict.values():\n",
    "  print(\"Yes, 'Ford' is one of the values in the thisdict dictionary\")\n",
    "\n",
    "# Print the number of items in the dictionary:\n",
    "print(len(thisdict))\n",
    "\n",
    "# Adding an item to the dictionary is done by using a new index key and assigning a value to it:\n",
    "thisdict = {\n",
    "  \"brand\": \"Ford\",\n",
    "  \"model\": \"Mustang\",\n",
    "  \"year\": 1964\n",
    "}\n",
    "thisdict[\"color\"] = \"red\"\n",
    "print(thisdict)\n",
    "\n",
    "# The pop() method removes the item with the specified key name:\n",
    "thisdict = {\n",
    "  \"brand\": \"Ford\",\n",
    "  \"model\": \"Mustang\",\n",
    "  \"year\": 1964\n",
    "}\n",
    "thisdict.pop(\"model\")\n",
    "print(thisdict)\n",
    "\n",
    "# The popitem() method removes the last inserted item (in versions before 3.7, a random item is removed instead):\n",
    "thisdict = {\n",
    "  \"brand\": \"Ford\",\n",
    "  \"model\": \"Mustang\",\n",
    "  \"year\": 1964\n",
    "}\n",
    "thisdict.popitem()\n",
    "print(thisdict)\n",
    "\n",
    "# The del keyword removes the item with the specified key name:\n",
    "thisdict = {\n",
    "  \"brand\": \"Ford\",\n",
    "  \"model\": \"Mustang\",\n",
    "  \"year\": 1964\n",
    "}\n",
    "del thisdict[\"model\"]\n",
    "print(thisdict)\n",
    "\n",
    "# The del keyword can also delete the dictionary completely:\n",
    "thisdict = {\n",
    "  \"brand\": \"Ford\",\n",
    "  \"model\": \"Mustang\",\n",
    "  \"year\": 1964\n",
    "}\n",
    "del thisdict\n",
    "\n",
    "# The clear() method empties the dictionary:\n",
    "thisdict = {\n",
    "  \"brand\": \"Ford\",\n",
    "  \"model\": \"Mustang\",\n",
    "  \"year\": 1964\n",
    "}\n",
    "thisdict.clear()\n",
    "print(thisdict)\n",
    "\n",
    "# Make a copy of a dictionary with the copy() method:\n",
    "thisdict = {\n",
    "  \"brand\": \"Ford\",\n",
    "  \"model\": \"Mustang\",\n",
    "  \"year\": 1964\n",
    "}\n",
    "mydict = thisdict.copy()\n",
    "print(mydict)\n",
    "\n",
    "# Make a copy of a dictionary with the dict() function:\n",
    "# Another way to make a copy is to use the built-in function dict().\n",
    "thisdict = {\n",
    "  \"brand\": \"Ford\",\n",
    "  \"model\": \"Mustang\",\n",
    "  \"year\": 1964\n",
    "}\n",
    "mydict = dict(thisdict)\n",
    "print(mydict)\n",
    "\n",
    "# It is also possible to use the dict() constructor to make a new dictionary:\n",
    "thisdict = dict(brand=\"Ford\", model=\"Mustang\", year=1964)\n",
    "# note that keywords are not string literals\n",
    "# note the use of equals rather than colon for the assignment\n",
    "print(thisdict)"
   ]
  },
  {
   "cell_type": "markdown",
   "metadata": {},
   "source": [
    "### Nested Dictionaries\n",
    "A dictionary can also contain many dictionaries, this is called nested dictionaries."
   ]
  },
  {
   "cell_type": "code",
   "execution_count": 125,
   "metadata": {},
   "outputs": [],
   "source": [
    "# Create a dictionary that contain three dictionaries:\n",
    "myfamily = {\n",
    "  \"child1\" : {\n",
    "    \"name\" : \"Emil\",\n",
    "    \"year\" : 2004\n",
    "  },\n",
    "  \"child2\" : {\n",
    "    \"name\" : \"Tobias\",\n",
    "    \"year\" : 2007\n",
    "  },\n",
    "  \"child3\" : {\n",
    "    \"name\" : \"Linus\",\n",
    "    \"year\" : 2011\n",
    "  }\n",
    "}\n",
    "\n",
    "# Create three dictionaries, then create one dictionary that will contain the other three dictionaries:\n",
    "child1 = {\n",
    "  \"name\" : \"Emil\",\n",
    "  \"year\" : 2004\n",
    "}\n",
    "child2 = {\n",
    "  \"name\" : \"Tobias\",\n",
    "  \"year\" : 2007\n",
    "}\n",
    "child3 = {\n",
    "  \"name\" : \"Linus\",\n",
    "  \"year\" : 2011\n",
    "}\n",
    "\n",
    "myfamily = {\n",
    "  \"child1\" : child1,\n",
    "  \"child2\" : child2,\n",
    "  \"child3\" : child3\n",
    "}"
   ]
  },
  {
   "cell_type": "markdown",
   "metadata": {},
   "source": [
    "|Method|\tDescription|\n",
    "|-----|------|\n",
    "|clear()\t|Removes all the elements from the dictionary|\n",
    "|copy()\t|Returns a copy of the dictionary|\n",
    "|fromkeys()\t|Returns a dictionary with the specified keys and value|\n",
    "|get()\t|Returns the value of the specified key|\n",
    "|items()\t|Returns a list containing a tuple for each key value pair|\n",
    "|keys()|\tReturns a list containing the dictionary's keys|\n",
    "|pop()\t|Removes the element with the specified key|\n",
    "|popitem()\t|Removes the last inserted key-value pair|\n",
    "|setdefault()\t|Returns the value of the specified key. If the key does not exist: insert |the key, with the specified value|\n",
    "|update()|\tUpdates the dictionary with the specified key-value pairs|\n",
    "|values()\t|Returns a list of all the values in the dictionary|"
   ]
  },
  {
   "cell_type": "markdown",
   "metadata": {},
   "source": [
    "# 11) Python If ... Else\n",
    "Python supports the usual logical conditions from mathematics:\n",
    "\n",
    "Equals: a == b <br>\n",
    "Not Equals: a != b <br>\n",
    "Less than: a < b <br>\n",
    "Less than or equal to: a <= b <br>\n",
    "Greater than: a > b <br>\n",
    "Greater than or equal to: a >= b <br>\n",
    "These conditions can be used in several ways, most commonly in \"if statements\" and loops. \n",
    "\n",
    "An \"if statement\" is written by using the if keyword."
   ]
  },
  {
   "cell_type": "code",
   "execution_count": 131,
   "metadata": {},
   "outputs": [
    {
     "name": "stdout",
     "output_type": "stream",
     "text": [
      "b is greater than a\n",
      "a and b are equal\n",
      "a is greater than b\n",
      "b is not greater than a\n",
      "a is greater than b\n",
      "B\n"
     ]
    }
   ],
   "source": [
    "# If statement:\n",
    "a = 33\n",
    "b = 200\n",
    "if b > a:\n",
    "  print(\"b is greater than a\")\n",
    "\n",
    "\n",
    "# Indentation\n",
    "# Python relies on indentation \n",
    "# (whitespace at the beginning of a line) to define scope in the code. \n",
    "# Other programming languages often use curly-brackets for this purpose.\n",
    "\n",
    "# a = 33\n",
    "# b = 200\n",
    "# if b > a:\n",
    "# print(\"b is greater than a\") # you will get an error #uncommend for error\n",
    "\n",
    "\n",
    "# The elif keyword is pythons way of saying \n",
    "# \"if the previous conditions were not true, then try this condition\".\n",
    "a = 33\n",
    "b = 33\n",
    "if b > a:\n",
    "  print(\"b is greater than a\")\n",
    "elif a == b:\n",
    "  print(\"a and b are equal\")\n",
    "\n",
    "# The else keyword catches anything which isn't caught by the preceding conditions.\n",
    "a = 200\n",
    "b = 33\n",
    "if b > a:\n",
    "  print(\"b is greater than a\")\n",
    "elif a == b:\n",
    "  print(\"a and b are equal\")\n",
    "else:\n",
    "  print(\"a is greater than b\")\n",
    "\n",
    "# You can also have an else without the elif:\n",
    "a = 200\n",
    "b = 33\n",
    "if b > a:\n",
    "  print(\"b is greater than a\")\n",
    "else:\n",
    "  print(\"b is not greater than a\")\n",
    "\n",
    "# If you have only one statement to execute, you can put it on the same line as the if statement.\n",
    "if a > b: print(\"a is greater than b\")\n",
    "\n",
    "# Short Hand If ... Else\n",
    "# If you have only one statement to execute, one for if, and one for else, you can put it all on the same line:\n",
    "a = 2\n",
    "b = 330\n",
    "print(\"A\") if a > b else print(\"B\")\n",
    "\n",
    "# One line if else statement, with 3 conditions:\n",
    "a = 330\n",
    "b = 330\n",
    "print(\"A\") if a > b else print(\"=\") if a == b else print(\"B\")\n"
   ]
  },
  {
   "cell_type": "markdown",
   "metadata": {},
   "source": [
    "### And\n",
    "The and keyword is a logical operator, and is used to combine conditional statements:"
   ]
  },
  {
   "cell_type": "code",
   "execution_count": 133,
   "metadata": {},
   "outputs": [
    {
     "name": "stdout",
     "output_type": "stream",
     "text": [
      "Both conditions are True\n",
      "At least one of the conditions is True\n",
      "Above ten,\n",
      "and also above 20!\n"
     ]
    }
   ],
   "source": [
    "# Test if a is greater than b, AND if c is greater than a:\n",
    "a = 200\n",
    "b = 33\n",
    "c = 500\n",
    "if a > b and c > a:\n",
    "  print(\"Both conditions are True\")\n",
    "\n",
    "# Test if a is greater than b, OR if a is greater than c:\n",
    "a = 200\n",
    "b = 33\n",
    "c = 500\n",
    "if a > b or a > c:\n",
    "  print(\"At least one of the conditions is True\")\n",
    "\n",
    "# You can have if statements inside if statements, this is called nested if statements.\n",
    "x = 41\n",
    "if x > 10:\n",
    "  print(\"Above ten,\")\n",
    "  if x > 20:\n",
    "    print(\"and also above 20!\")\n",
    "  else:\n",
    "    print(\"but not above 20.\")\n",
    "    \n",
    "# if statements cannot be empty, but if you for some reason have an if statement with no content, put in the pass statement to avoid getting an error.\n",
    "a = 33\n",
    "b = 200\n",
    "\n",
    "if b > a:\n",
    "  pass"
   ]
  },
  {
   "cell_type": "markdown",
   "metadata": {},
   "source": [
    "# 12) Python While Loops\n",
    "\n",
    "Python has two primitive loop commands:\n",
    "- while loops\n",
    "- for loops"
   ]
  },
  {
   "cell_type": "code",
   "execution_count": 141,
   "metadata": {},
   "outputs": [
    {
     "name": "stdout",
     "output_type": "stream",
     "text": [
      "Q1: 1\n",
      "Q1: 2\n",
      "Q1: 3\n",
      "Q1: 4\n",
      "Q1: 5\n",
      "Q2: 1\n",
      "Q2: 2\n",
      "Q2: 3\n",
      "Q3: 1\n",
      "Q3: 2\n",
      "Q3: 4\n",
      "Q3: 5\n",
      "Q3: 6\n",
      "Q4: 1\n",
      "Q4: 2\n",
      "Q4: 3\n",
      "Q4: 4\n",
      "Q4: 5\n",
      "i is no longer less than 6\n"
     ]
    }
   ],
   "source": [
    "# Print i as long as i is less than 6:\n",
    "i = 1\n",
    "while i < 6:\n",
    "  print('Q1: ' + str(i))\n",
    "  i += 1\n",
    "    \n",
    "# Exit the loop when i is 3:\n",
    "i = 1\n",
    "while i < 6:\n",
    "  print('Q2: ' + str(i))\n",
    "  if i == 3:\n",
    "    break\n",
    "  i += 1\n",
    "\n",
    "# Continue to the next iteration if i is 3:\n",
    "# With the continue statement we can stop the current iteration, and continue with the next:\n",
    "i = 0\n",
    "while i < 6:\n",
    "  i += 1\n",
    "  if i == 3:\n",
    "    continue\n",
    "  print('Q3: ' + str(i))\n",
    "\n",
    "# Print a message once the condition is false:\n",
    "i = 1\n",
    "while i < 6:\n",
    "  print('Q4: ' + str(i))\n",
    "  i += 1\n",
    "else:\n",
    "  print(\"i is no longer less than 6\")"
   ]
  },
  {
   "cell_type": "markdown",
   "metadata": {},
   "source": [
    "# 13) Python For Loops\n",
    "A for loop is used for iterating over a sequence (that is either a list, a tuple, a dictionary, a set, or a string)."
   ]
  },
  {
   "cell_type": "code",
   "execution_count": 152,
   "metadata": {},
   "outputs": [
    {
     "name": "stdout",
     "output_type": "stream",
     "text": [
      "apple\n",
      "banana\n",
      "cherry\n",
      "b\n",
      "a\n",
      "n\n",
      "a\n",
      "n\n",
      "a\n",
      "apple\n",
      "banana\n",
      "apple\n",
      "apple\n",
      "cherry\n",
      "0\n",
      "1\n",
      "2\n",
      "3\n",
      "4\n",
      "5\n",
      "12\n",
      "13\n",
      "14\n",
      "15\n",
      "2\n",
      "5\n",
      "8\n",
      "11\n",
      "14\n",
      "17\n",
      "20\n",
      "23\n",
      "26\n",
      "29\n",
      "0\n",
      "1\n",
      "2\n",
      "3\n",
      "4\n",
      "5\n",
      "Finally finished!\n",
      "red apple\n",
      "red banana\n",
      "red cherry\n",
      "big apple\n",
      "big banana\n",
      "big cherry\n",
      "tasty apple\n",
      "tasty banana\n",
      "tasty cherry\n"
     ]
    }
   ],
   "source": [
    "# Print each fruit in a fruit list:\n",
    "fruits = [\"apple\", \"banana\", \"cherry\"]\n",
    "for x in fruits:\n",
    "  print(x)\n",
    "\n",
    "# Loop through the letters in the word \"banana\":\n",
    "# Even strings are iterable objects, they contain a sequence of characters:\n",
    "for x in \"banana\":\n",
    "  print(x)\n",
    "\n",
    "# Exit the loop when x is \"banana\":\n",
    "fruits = [\"apple\", \"banana\", \"cherry\"]\n",
    "for x in fruits:\n",
    "  print(x)\n",
    "  if x == \"banana\":\n",
    "    break\n",
    "\n",
    "# Exit the loop when x is \"banana\", but this time the break comes before the print:\n",
    "fruits = [\"apple\", \"banana\", \"cherry\"]\n",
    "for x in fruits:\n",
    "  if x == \"banana\":\n",
    "    break\n",
    "  print(x)\n",
    "\n",
    "# Do not print banana:\n",
    "fruits = [\"apple\", \"banana\", \"cherry\"]\n",
    "for x in fruits:\n",
    "  if x == \"banana\":\n",
    "    continue\n",
    "  print(x)\n",
    "\n",
    "# Using the range() function:\n",
    "for x in range(6):\n",
    "  print(x)\n",
    "\n",
    "# Using the start parameter:\n",
    "for x in range(12, 16):\n",
    "  print(x)\n",
    "\n",
    "# Increment the sequence with 3 (default is 1):\n",
    "for x in range(2, 30, 3):\n",
    "  print(x)\n",
    "\n",
    "# Print all numbers from 0 to 5, and print a message when the loop has ended:\n",
    "for x in range(6):\n",
    "  print(x)\n",
    "else:\n",
    "  print(\"Finally finished!\")\n",
    "\n",
    "# Nested Loops\n",
    "# A nested loop is a loop inside a loop.\n",
    "# The \"inner loop\" will be executed one time for each iteration of the \"outer loop\":\n",
    "# Print each adjective for every fruit:\n",
    "adj = [\"red\", \"big\", \"tasty\"]\n",
    "fruits = [\"apple\", \"banana\", \"cherry\"]\n",
    "\n",
    "for x in adj:\n",
    "  for y in fruits:\n",
    "    print(x, y)\n",
    "    \n",
    "# for loops cannot be empty, but if you for some reason have a for loop with no content, put in the pass statement to avoid getting an error.\n",
    "for x in [0, 1, 2]:\n",
    "  pass"
   ]
  },
  {
   "cell_type": "markdown",
   "metadata": {},
   "source": [
    "# 14) Python Functions\n",
    "\n",
    "A function is a block of code which only runs when it is called. <br>\n",
    "You can pass data, known as parameters, into a function.<br>\n",
    "A function can return data as a result.<br>"
   ]
  },
  {
   "cell_type": "code",
   "execution_count": 168,
   "metadata": {},
   "outputs": [
    {
     "name": "stdout",
     "output_type": "stream",
     "text": [
      "Hello from a function\n",
      "Emil Refsnes\n",
      "Tobias Refsnes\n",
      "Linus Refsnes\n",
      "Emil Refsnes\n",
      "The youngest child is Linus\n",
      "The youngest child is Linus\n",
      "His last name is Refsnes\n",
      "I am from Sweden\n",
      "I am from India\n",
      "I am from Norway\n",
      "I am from Brazil\n",
      "apple\n",
      "banana\n",
      "cherry\n",
      "15\n",
      "25\n",
      "45\n",
      "\n",
      "\n",
      "Recursion Example Results\n",
      "5 1\n",
      "4 3\n",
      "3 6\n",
      "2 10\n",
      "1 15\n",
      "0 21\n"
     ]
    },
    {
     "data": {
      "text/plain": [
       "21"
      ]
     },
     "execution_count": 168,
     "metadata": {},
     "output_type": "execute_result"
    }
   ],
   "source": [
    "# In Python a function is defined using the def keyword:\n",
    "def my_function():\n",
    "  print(\"Hello from a function\")\n",
    "\n",
    "my_function()\n",
    "\n",
    "# Information can be passed into functions as arguments.\n",
    "# Arguments are specified after the function name, inside the parentheses. \n",
    "# You can add as many arguments as you want, just separate them with a comma\n",
    "def my_function(fname):\n",
    "  print(fname + \" Refsnes\")\n",
    "\n",
    "my_function(\"Emil\")\n",
    "my_function(\"Tobias\")\n",
    "my_function(\"Linus\")\n",
    "\n",
    "# This function expects 2 arguments, and gets 2 arguments:\n",
    "def my_function(fname, lname):\n",
    "  print(fname + \" \" + lname)\n",
    "\n",
    "my_function(\"Emil\", \"Refsnes\")\n",
    "\n",
    "# If the number of arguments is unknown, add a * before the parameter name:\n",
    "def my_function(*kids):\n",
    "  print(\"The youngest child is \" + kids[2])\n",
    "\n",
    "my_function(\"Emil\", \"Tobias\", \"Linus\")\n",
    "\n",
    "# You can also send arguments with the key = value syntax.\n",
    "# This way the order of the arguments does not matter.\n",
    "def my_function(child3, child2, child1):\n",
    "  print(\"The youngest child is \" + child3)\n",
    "\n",
    "my_function(child1 = \"Emil\", child2 = \"Tobias\", child3 = \"Linus\")\n",
    "\n",
    "# If the number of keyword arguments is unknown, add a double ** before the parameter name:\n",
    "def my_function(**kid):\n",
    "  print(\"His last name is \" + kid[\"lname\"])\n",
    "\n",
    "my_function(fname = \"Tobias\", lname = \"Refsnes\")\n",
    "\n",
    "# Default Parameter Value\n",
    "def my_function(country = \"Norway\"):\n",
    "  print(\"I am from \" + country)\n",
    "\n",
    "my_function(\"Sweden\")\n",
    "my_function(\"India\")\n",
    "my_function()\n",
    "my_function(\"Brazil\")\n",
    "\n",
    "# Passing a List as an Argument\n",
    "# You can send any data types of argument to a function (string, number, list, dictionary etc.), \n",
    "# and it will be treated as the same data type inside the function.\n",
    "def my_function(food):\n",
    "  for x in food:\n",
    "    print(x)\n",
    "\n",
    "fruits = [\"apple\", \"banana\", \"cherry\"]\n",
    "\n",
    "my_function(fruits)\n",
    "\n",
    "# To let a function return a value, use the return statement:\n",
    "def my_function(x):\n",
    "  return 5 * x\n",
    "\n",
    "print(my_function(3))\n",
    "print(my_function(5))\n",
    "print(my_function(9))\n",
    "\n",
    "# The pass Statement\n",
    "# function definitions cannot be empty, \n",
    "# but if you for some reason have a function definition with no content, \n",
    "# put in the pass statement to avoid getting an error.\n",
    "def myfunction():\n",
    "  pass\n",
    "\n",
    "# Recursion\n",
    "# Python also accepts function recursion, which means a defined function can call itself.\n",
    "def tri_recursion(k, run_no):\n",
    "  if(k > 0):\n",
    "    result = k + tri_recursion(k - 1, run_no + 1)\n",
    "    print(str(run_no) + \" \" + str(result))\n",
    "  else:\n",
    "    result = 0\n",
    "  return result\n",
    "\n",
    "print(\"\\n\\nRecursion Example Results\")\n",
    "tri_recursion(6, 0)"
   ]
  },
  {
   "cell_type": "markdown",
   "metadata": {},
   "source": [
    "# 15) Python Lambda\n",
    "\n",
    "A lambda function is a small anonymous function.\n",
    "\n",
    "A lambda function can take any number of arguments, but can only have one expression."
   ]
  },
  {
   "cell_type": "code",
   "execution_count": 170,
   "metadata": {},
   "outputs": [
    {
     "name": "stdout",
     "output_type": "stream",
     "text": [
      "15\n",
      "30\n",
      "13\n"
     ]
    }
   ],
   "source": [
    "# A lambda function that adds 10 to the number passed in as an argument, and print the result:\n",
    "x = lambda a : a + 10\n",
    "print(x(5))\n",
    "\n",
    "# A lambda function that multiplies argument a with argument b and print the result:\n",
    "x = lambda a, b : a * b\n",
    "print(x(5, 6))\n",
    "\n",
    "# A lambda function that sums argument a, b, and c and print the result:\n",
    "x = lambda a, b, c : a + b + c\n",
    "print(x(5, 6, 2))"
   ]
  },
  {
   "cell_type": "markdown",
   "metadata": {},
   "source": [
    "### Why Use Lambda Functions?\n",
    "The power of lambda is better shown when you use them as an anonymous function inside another function.\n",
    "\n",
    "Say you have a function definition that takes one argument, and that argument will be multiplied with an unknown number:\n",
    "\n",
    "Use that function definition to make a function that always doubles the number you send in:"
   ]
  },
  {
   "cell_type": "code",
   "execution_count": 171,
   "metadata": {
    "scrolled": false
   },
   "outputs": [
    {
     "name": "stdout",
     "output_type": "stream",
     "text": [
      "22\n"
     ]
    }
   ],
   "source": [
    "def myfunc(n):\n",
    "  return lambda a : a * n\n",
    "\n",
    "mydoubler = myfunc(2)\n",
    "\n",
    "print(mydoubler(11))"
   ]
  },
  {
   "cell_type": "markdown",
   "metadata": {},
   "source": [
    "# 16) Python Arrays\n",
    "Arrays are used to store multiple values in one single variable\n",
    "\n",
    "Python does not have built-in support for Arrays, but Python Lists can be used instead.\n",
    "\n",
    "Note: This page shows you how to use LISTS as ARRAYS, however, to work with arrays in Python you will have to import a library, like the NumPy library."
   ]
  },
  {
   "cell_type": "code",
   "execution_count": 176,
   "metadata": {},
   "outputs": [
    {
     "name": "stdout",
     "output_type": "stream",
     "text": [
      "Ford\n",
      "Ford\n",
      "Volvo\n",
      "BMW\n"
     ]
    },
    {
     "data": {
      "text/plain": [
       "'Volvo'"
      ]
     },
     "execution_count": 176,
     "metadata": {},
     "output_type": "execute_result"
    }
   ],
   "source": [
    "# Create an array containing car names:\n",
    "cars = [\"Ford\", \"Volvo\", \"BMW\"]\n",
    "\n",
    "# Get the value of the first array item:\n",
    "x = cars[0]\n",
    "print(x)\n",
    "\n",
    "# Print each item in the cars array:\n",
    "for x in cars:\n",
    "  print(x)\n",
    "\n",
    "# Add one more element to the cars array:\n",
    "cars.append(\"Honda\")\n",
    "\n",
    "# Delete the second element of the cars array:\n",
    "cars.pop(1)\n",
    "\n",
    "# Delete the element that has the value \"Volvo\":\n",
    "# Note: The list's remove() method only removes the first occurrence of the specified value.\n",
    "cars.remove(\"BMW\")\n"
   ]
  },
  {
   "cell_type": "markdown",
   "metadata": {},
   "source": [
    "| Method\t|Description|\n",
    "|-----------|------------|\n",
    "|append()\t|Adds an element at the end of the list|\n",
    "|clear()\t|Removes all the elements from the list|\n",
    "|copy()\t|Returns a copy of the list|\n",
    "|count()\t|Returns the number of elements with the specified value|\n",
    "|extend()\t|Add the elements of a list (or any iterable), to the end of the current list|\n",
    "|index()\t|Returns the index of the first element with the specified value|\n",
    "|insert()\t|Adds an element at the specified position|\n",
    "|pop()\t|Removes the element at the specified position|\n",
    "|remove()\t|Removes the first item with the specified value|\n",
    "|reverse()|\tReverses the order of the list|\n",
    "|sort()\t|Sorts the list|"
   ]
  },
  {
   "cell_type": "markdown",
   "metadata": {},
   "source": [
    "# 17) Python Classes and Objects\n",
    "Python is an object oriented programming language.\n",
    "\n",
    "Almost everything in Python is an object, with its properties and methods.\n",
    "\n",
    "A Class is like an object constructor, or a \"blueprint\" for creating objects."
   ]
  },
  {
   "cell_type": "code",
   "execution_count": 1,
   "metadata": {},
   "outputs": [
    {
     "name": "stdout",
     "output_type": "stream",
     "text": [
      "5\n"
     ]
    }
   ],
   "source": [
    "# Create a class named MyClass, with a property named x:\n",
    "class MyClass:\n",
    "  x = 5\n",
    "\n",
    "# Create an object named p1, and print the value of x:\n",
    "p1 = MyClass()\n",
    "print(p1.x)"
   ]
  },
  {
   "cell_type": "markdown",
   "metadata": {},
   "source": [
    "### The __init__() Function\n",
    "\n",
    "The examples above are classes and objects in their simplest form, and are not really useful in real life applications.\n",
    "\n",
    "To understand the meaning of classes we have to understand the built-in __init__() function.\n",
    "\n",
    "All classes have a function called __init__(), which is always executed when the class is being initiated.\n",
    "\n",
    "Use the __init__() function to assign values to object properties, or other operations that are necessary to do when the object is being created:\n",
    "\n",
    "The __init__() function is called automatically every time the class is being used to create a new object."
   ]
  },
  {
   "cell_type": "code",
   "execution_count": 8,
   "metadata": {},
   "outputs": [
    {
     "name": "stdout",
     "output_type": "stream",
     "text": [
      "Peter\n",
      "36\n"
     ]
    }
   ],
   "source": [
    "# Create a class named Person, use the __init__() function to assign values for name and age:\n",
    "class Person:\n",
    "  def __init__(self, name, age):\n",
    "    self.name = name\n",
    "    self.age = age\n",
    "\n",
    "p1 = Person(\"Peter\", 36)\n",
    "\n",
    "print(p1.name)\n",
    "print(p1.age)"
   ]
  },
  {
   "cell_type": "markdown",
   "metadata": {},
   "source": [
    "### Object Methods\n",
    "Objects can also contain methods. Methods in objects are functions that belong to the object.\n",
    "\n",
    "Let us create a method in the Person class:"
   ]
  },
  {
   "cell_type": "code",
   "execution_count": 11,
   "metadata": {},
   "outputs": [
    {
     "name": "stdout",
     "output_type": "stream",
     "text": [
      "Hello my name is John\n"
     ]
    }
   ],
   "source": [
    "# Insert a function that prints a greeting, and execute it on the p1 object:\n",
    "\n",
    "class Person:\n",
    "  def __init__(self, name, age):\n",
    "    self.name = name\n",
    "    self.age = age\n",
    "\n",
    "  def myfunc(self):\n",
    "    print(\"Hello my name is \" + self.name)\n",
    "\n",
    "p1 = Person(\"John\", 36)\n",
    "p1.myfunc()"
   ]
  },
  {
   "cell_type": "markdown",
   "metadata": {},
   "source": [
    "### The self Parameter\n",
    "\n",
    "The self parameter is a reference to the current instance of the class, and is used to access variables that belongs to the class.\n",
    "\n",
    "It does not have to be named self , you can call it whatever you like, but it has to be the first parameter of any function in the class:"
   ]
  },
  {
   "cell_type": "code",
   "execution_count": 17,
   "metadata": {},
   "outputs": [
    {
     "name": "stdout",
     "output_type": "stream",
     "text": [
      "Hello my name is John36\n",
      "Hello my name is John40\n"
     ]
    }
   ],
   "source": [
    "# Use the words mysillyobject and abc instead of self:\n",
    "class Person:\n",
    "  def __init__(mysillyobject, name, age):\n",
    "    mysillyobject.name = name\n",
    "    mysillyobject.age = age\n",
    "\n",
    "  def myfunc(abc):\n",
    "    print(\"Hello my name is \" + abc.name + str(abc.age))\n",
    "\n",
    "p1 = Person(\"John\", 36)\n",
    "p1.myfunc()\n",
    "\n",
    "# Set the age of p1 to 40:\n",
    "p1.age = 40\n",
    "p1.myfunc()\n",
    "\n",
    "# Delete the age property from the p1 object:\n",
    "del p1.age\n",
    "\n",
    "# Delete the p1 object:\n",
    "del p1\n",
    "\n",
    "# class definitions cannot be empty, but if you for some reason have a class definition with no content, put in the pass statement to avoid getting an error.\n",
    "lass Person:\n",
    "  pass"
   ]
  },
  {
   "cell_type": "markdown",
   "metadata": {},
   "source": [
    "# 18) Python Inheritance\n",
    "\n",
    "Inheritance allows us to define a class that inherits all the methods and properties from another class.\n",
    "\n",
    "Parent class is the class being inherited from, also called base class.\n",
    "\n",
    "Child class is the class that inherits from another class, also called derived class."
   ]
  },
  {
   "cell_type": "code",
   "execution_count": 18,
   "metadata": {},
   "outputs": [
    {
     "name": "stdout",
     "output_type": "stream",
     "text": [
      "John Doe\n"
     ]
    }
   ],
   "source": [
    "# Create a Parent Class\n",
    "# Any class can be a parent class, so the syntax is the same as creating any other class:\n",
    "class Person:\n",
    "  def __init__(self, fname, lname):\n",
    "    self.firstname = fname\n",
    "    self.lastname = lname\n",
    "\n",
    "  def printname(self):\n",
    "    print(self.firstname, self.lastname)\n",
    "\n",
    "#Use the Person class to create an object, and then execute the printname method:\n",
    "\n",
    "x = Person(\"John\", \"Doe\")\n",
    "x.printname()"
   ]
  },
  {
   "cell_type": "code",
   "execution_count": 20,
   "metadata": {},
   "outputs": [
    {
     "name": "stdout",
     "output_type": "stream",
     "text": [
      "Mike Olsen\n"
     ]
    }
   ],
   "source": [
    "# Create a Child Class\n",
    "# To create a class that inherits the functionality from another class, send the parent class as a parameter when creating the child class:\n",
    "class Student(Person):\n",
    "  pass\n",
    "\n",
    "# Use the Student class to create an object, and then execute the printname method:\n",
    "x = Student(\"Mike\", \"Olsen\")\n",
    "x.printname()"
   ]
  },
  {
   "cell_type": "markdown",
   "metadata": {},
   "source": [
    "### Add the __init__() Function\n",
    "\n",
    "When you add the __init__() function, the child class will no longer inherit the parent's __init__() function.\n",
    "\n",
    "Note: The child's __init__() function overrides the inheritance of the parent's __init__() function.\n",
    "\n",
    "To keep the inheritance of the parent's __init__() function, add a call to the parent's __init__() function:"
   ]
  },
  {
   "cell_type": "code",
   "execution_count": 21,
   "metadata": {},
   "outputs": [],
   "source": [
    "class Student(Person):\n",
    "  def __init__(self, fname, lname):\n",
    "    Person.__init__(self, fname, lname)"
   ]
  },
  {
   "cell_type": "markdown",
   "metadata": {},
   "source": [
    "### Use the super() Function\n",
    "Python also has a super() function that will make the child class inherit all the methods and properties from its parent:"
   ]
  },
  {
   "cell_type": "code",
   "execution_count": 22,
   "metadata": {},
   "outputs": [],
   "source": [
    "class Student(Person):\n",
    "  def __init__(self, fname, lname):\n",
    "    super().__init__(fname, lname)"
   ]
  },
  {
   "cell_type": "markdown",
   "metadata": {},
   "source": [
    "### Add Properties"
   ]
  },
  {
   "cell_type": "code",
   "execution_count": 23,
   "metadata": {},
   "outputs": [],
   "source": [
    "# Add a year parameter, and pass the correct year when creating objects:\n",
    "class Student(Person):\n",
    "  def __init__(self, fname, lname, year):\n",
    "    super().__init__(fname, lname)\n",
    "    self.graduationyear = year\n",
    "\n",
    "x = Student(\"Mike\", \"Olsen\", 2019)"
   ]
  },
  {
   "cell_type": "markdown",
   "metadata": {},
   "source": [
    "### Add Methods"
   ]
  },
  {
   "cell_type": "code",
   "execution_count": 24,
   "metadata": {},
   "outputs": [],
   "source": [
    "# Add a method called welcome to the Student class:\n",
    "class Student(Person):\n",
    "  def __init__(self, fname, lname, year):\n",
    "    super().__init__(fname, lname)\n",
    "    self.graduationyear = year\n",
    "\n",
    "  def welcome(self):\n",
    "    print(\"Welcome\", self.firstname, self.lastname, \"to the class of\", self.graduationyear)"
   ]
  },
  {
   "cell_type": "markdown",
   "metadata": {},
   "source": [
    "# 19) Python Iterators\n",
    "\n",
    "An iterator is an object that contains a countable number of values.\n",
    "\n",
    "An iterator is an object that can be iterated upon, meaning that you can traverse through all the values.\n",
    "\n",
    "Technically, in Python, an iterator is an object which implements the iterator protocol, which consist of the methods __iter__() and __next__().\n",
    "\n",
    "### Iterator vs Iterable\n",
    "\n",
    "Lists, tuples, dictionaries, and sets are all iterable objects. They are iterable containers which you can get an iterator from.\n",
    "\n",
    "All these objects have a iter() method which is used to get an iterator:"
   ]
  },
  {
   "cell_type": "code",
   "execution_count": 27,
   "metadata": {},
   "outputs": [
    {
     "name": "stdout",
     "output_type": "stream",
     "text": [
      "apple\n",
      "banana\n",
      "cherry\n",
      "b\n",
      "a\n",
      "n\n",
      "a\n",
      "n\n",
      "a\n",
      "apple\n",
      "banana\n",
      "cherry\n",
      "b\n",
      "a\n",
      "n\n",
      "a\n",
      "n\n",
      "a\n"
     ]
    }
   ],
   "source": [
    "# Return an iterator from a tuple, and print each value:\n",
    "mytuple = (\"apple\", \"banana\", \"cherry\")\n",
    "myit = iter(mytuple)\n",
    "\n",
    "print(next(myit))\n",
    "print(next(myit))\n",
    "print(next(myit))\n",
    "\n",
    "# Strings are also iterable objects, containing a sequence of characters:\n",
    "mystr = \"banana\"\n",
    "myit = iter(mystr)\n",
    "\n",
    "print(next(myit))\n",
    "print(next(myit))\n",
    "print(next(myit))\n",
    "print(next(myit))\n",
    "print(next(myit))\n",
    "print(next(myit))\n",
    "\n",
    "# Iterate the values of a tuple:\n",
    "mytuple = (\"apple\", \"banana\", \"cherry\")\n",
    "for x in mytuple:\n",
    "  print(x)\n",
    "\n",
    "# Iterate the characters of a string:\n",
    "mystr = \"banana\"\n",
    "for x in mystr:\n",
    "  print(x)"
   ]
  },
  {
   "cell_type": "markdown",
   "metadata": {},
   "source": [
    "### Create an Iterator\n",
    "To create an object/class as an iterator you have to implement the methods __iter__() and __next__() to your object.\n",
    "\n",
    "As you have learned in the Python Classes/Objects chapter, all classes have a function called __init__(), which allows you to do some initializing when the object is being created.\n",
    "\n",
    "The __iter__() method acts similar, you can do operations (initializing etc.), but must always return the iterator object itself.\n",
    "\n",
    "The __next__() method also allows you to do operations, and must return the next item in the sequence."
   ]
  },
  {
   "cell_type": "code",
   "execution_count": 28,
   "metadata": {},
   "outputs": [
    {
     "name": "stdout",
     "output_type": "stream",
     "text": [
      "1\n",
      "2\n",
      "3\n",
      "4\n",
      "5\n"
     ]
    }
   ],
   "source": [
    "class MyNumbers:\n",
    "  def __iter__(self):\n",
    "    self.a = 1\n",
    "    return self\n",
    "\n",
    "  def __next__(self):\n",
    "    x = self.a\n",
    "    self.a += 1\n",
    "    return x\n",
    "\n",
    "myclass = MyNumbers()\n",
    "myiter = iter(myclass)\n",
    "\n",
    "print(next(myiter))\n",
    "print(next(myiter))\n",
    "print(next(myiter))\n",
    "print(next(myiter))\n",
    "print(next(myiter))"
   ]
  },
  {
   "cell_type": "markdown",
   "metadata": {},
   "source": [
    "## StopIteration\n",
    "The example above would continue forever if you had enough next() statements, or if it was used in a for loop.\n",
    "\n",
    "To prevent the iteration to go on forever, we can use the StopIteration statement.\n",
    "\n",
    "In the __next__() method, we can add a terminating condition to raise an error if the iteration is done a specified number of times:"
   ]
  },
  {
   "cell_type": "code",
   "execution_count": 29,
   "metadata": {},
   "outputs": [
    {
     "name": "stdout",
     "output_type": "stream",
     "text": [
      "1\n",
      "2\n",
      "3\n",
      "4\n",
      "5\n",
      "6\n",
      "7\n",
      "8\n",
      "9\n",
      "10\n",
      "11\n",
      "12\n",
      "13\n",
      "14\n",
      "15\n",
      "16\n",
      "17\n",
      "18\n",
      "19\n",
      "20\n"
     ]
    }
   ],
   "source": [
    "# Stop after 20 iterations:\n",
    "class MyNumbers:\n",
    "  def __iter__(self):\n",
    "    self.a = 1\n",
    "    return self\n",
    "\n",
    "  def __next__(self):\n",
    "    if self.a <= 20:\n",
    "      x = self.a\n",
    "      self.a += 1\n",
    "      return x\n",
    "    else:\n",
    "      raise StopIteration\n",
    "\n",
    "myclass = MyNumbers()\n",
    "myiter = iter(myclass)\n",
    "\n",
    "for x in myiter:\n",
    "  print(x)"
   ]
  },
  {
   "cell_type": "markdown",
   "metadata": {},
   "source": [
    "# 20) Python Scope\n",
    "\n",
    "A variable is only available from inside the region it is created. This is called scope.\n",
    "\n",
    "### Local Scope\n",
    "\n",
    "A variable created inside a function belongs to the local scope of that function, and can only be used inside that function."
   ]
  },
  {
   "cell_type": "code",
   "execution_count": 30,
   "metadata": {},
   "outputs": [
    {
     "name": "stdout",
     "output_type": "stream",
     "text": [
      "300\n"
     ]
    }
   ],
   "source": [
    "# A variable created inside a function is available inside that function:\n",
    "def myfunc():\n",
    "  x = 300\n",
    "  print(x)\n",
    "\n",
    "myfunc()"
   ]
  },
  {
   "cell_type": "markdown",
   "metadata": {},
   "source": [
    "## Function Inside Function\n",
    "\n",
    "As explained in the example above, the variable x is not available outside the function, but it is available for any function inside the function:"
   ]
  },
  {
   "cell_type": "code",
   "execution_count": 31,
   "metadata": {},
   "outputs": [
    {
     "name": "stdout",
     "output_type": "stream",
     "text": [
      "300\n"
     ]
    }
   ],
   "source": [
    "# The local variable can be accessed from a function within the function:\n",
    "def myfunc():\n",
    "  x = 300\n",
    "  def myinnerfunc():\n",
    "    print(x)\n",
    "  myinnerfunc()\n",
    "\n",
    "myfunc()"
   ]
  },
  {
   "cell_type": "markdown",
   "metadata": {},
   "source": [
    "## Global Scope\n",
    "A variable created in the main body of the Python code is a global variable and belongs to the global scope.\n",
    "\n",
    "Global variables are available from within any scope, global and local."
   ]
  },
  {
   "cell_type": "code",
   "execution_count": 33,
   "metadata": {},
   "outputs": [
    {
     "name": "stdout",
     "output_type": "stream",
     "text": [
      "300\n",
      "300\n"
     ]
    }
   ],
   "source": [
    "# A variable created outside of a function is global and can be used by anyone:\n",
    "\n",
    "x = 300\n",
    "\n",
    "def myfunc():\n",
    "  print(x)\n",
    "\n",
    "myfunc()\n",
    "\n",
    "print(x)"
   ]
  },
  {
   "cell_type": "markdown",
   "metadata": {},
   "source": [
    "## Naming Variables\n",
    "If you operate with the same variable name inside and outside of a function, Python will treat them as two separate variables, one available in the global scope (outside the function) and one available in the local scope (inside the function)"
   ]
  },
  {
   "cell_type": "code",
   "execution_count": 34,
   "metadata": {
    "scrolled": true
   },
   "outputs": [
    {
     "name": "stdout",
     "output_type": "stream",
     "text": [
      "200\n",
      "300\n"
     ]
    }
   ],
   "source": [
    "# The function will print the local x, and then the code will print the global x:\n",
    "\n",
    "x = 300\n",
    "\n",
    "def myfunc():\n",
    "  x = 200\n",
    "  print(x)\n",
    "\n",
    "myfunc()\n",
    "\n",
    "print(x)"
   ]
  },
  {
   "cell_type": "markdown",
   "metadata": {},
   "source": [
    "## Global Keyword\n",
    "If you need to create a global variable, but are stuck in the local scope, you can use the global keyword.\n",
    "\n",
    "The global keyword makes the variable global."
   ]
  },
  {
   "cell_type": "code",
   "execution_count": 35,
   "metadata": {},
   "outputs": [
    {
     "name": "stdout",
     "output_type": "stream",
     "text": [
      "300\n"
     ]
    }
   ],
   "source": [
    "# If you use the global keyword, the variable belongs to the global scope:\n",
    "\n",
    "def myfunc():\n",
    "  global x\n",
    "  x = 300\n",
    "\n",
    "myfunc()\n",
    "\n",
    "print(x)"
   ]
  },
  {
   "cell_type": "code",
   "execution_count": 36,
   "metadata": {},
   "outputs": [
    {
     "name": "stdout",
     "output_type": "stream",
     "text": [
      "200\n"
     ]
    }
   ],
   "source": [
    "# To change the value of a global variable inside a function, refer to the variable by using the global keyword:\n",
    "\n",
    "x = 300\n",
    "\n",
    "def myfunc():\n",
    "  global x\n",
    "  x = 200\n",
    "\n",
    "myfunc()\n",
    "\n",
    "print(x)"
   ]
  },
  {
   "cell_type": "markdown",
   "metadata": {},
   "source": [
    "# 21) Python Modules\n",
    "\n",
    "What is a Module?\n",
    "Consider a module to be the same as a code library.\n",
    "\n",
    "A file containing a set of functions you want to include in your application.\n",
    "\n",
    "Create a Module\n",
    "To create a module just save the code you want in a file with the file extension .py:"
   ]
  },
  {
   "cell_type": "code",
   "execution_count": 40,
   "metadata": {},
   "outputs": [
    {
     "name": "stdout",
     "output_type": "stream",
     "text": [
      "Hello, Jonathan\n"
     ]
    }
   ],
   "source": [
    "# Save this code in a file named mymodule.py\n",
    "def greeting(name):\n",
    "  print(\"Hello, \" + name)\n",
    "\n",
    "# Import the module named mymodule, and call the greeting function:\n",
    "import mymodule\n",
    "mymodule.greeting(\"Jonathan\")\n",
    "\n"
   ]
  },
  {
   "cell_type": "markdown",
   "metadata": {},
   "source": [
    "## Variables in Module\n",
    "The module can contain functions, as already described, but also variables of all types (arrays, dictionaries, objects etc):"
   ]
  },
  {
   "cell_type": "code",
   "execution_count": 48,
   "metadata": {},
   "outputs": [
    {
     "name": "stdout",
     "output_type": "stream",
     "text": [
      "36\n"
     ]
    }
   ],
   "source": [
    "# Save this code in the file mymodule.py\n",
    "person1 = {\n",
    "  \"name\": \"John\",\n",
    "  \"age\": 36,\n",
    "  \"country\": \"Norway\"\n",
    "}\n",
    "\n",
    "# Import the module named mymodule, and access the person1 dictionary:\n",
    "import mymodule1\n",
    "a = mymodule1.person1[\"age\"]\n",
    "print(a)"
   ]
  },
  {
   "cell_type": "markdown",
   "metadata": {},
   "source": [
    "## Re-naming a Module\n",
    "You can create an alias when you import a module, by using the as keyword:"
   ]
  },
  {
   "cell_type": "code",
   "execution_count": 50,
   "metadata": {},
   "outputs": [
    {
     "name": "stdout",
     "output_type": "stream",
     "text": [
      "36\n"
     ]
    }
   ],
   "source": [
    "# Create an alias for mymodule called mx:\n",
    "import mymodule1 as mx\n",
    "\n",
    "a = mx.person1[\"age\"]\n",
    "print(a)"
   ]
  },
  {
   "cell_type": "markdown",
   "metadata": {},
   "source": [
    "## Built-in Modules\n",
    "There are several built-in modules in Python, which you can import whenever you like."
   ]
  },
  {
   "cell_type": "code",
   "execution_count": 51,
   "metadata": {},
   "outputs": [
    {
     "name": "stdout",
     "output_type": "stream",
     "text": [
      "Darwin\n"
     ]
    }
   ],
   "source": [
    "import platform\n",
    "\n",
    "x = platform.system()\n",
    "print(x)"
   ]
  },
  {
   "cell_type": "markdown",
   "metadata": {},
   "source": [
    "## Using the dir() Function\n",
    "There is a built-in function to list all the function names (or variable names) in a module. The dir() function:"
   ]
  },
  {
   "cell_type": "code",
   "execution_count": 53,
   "metadata": {},
   "outputs": [
    {
     "name": "stdout",
     "output_type": "stream",
     "text": [
      "['DEV_NULL', '_UNIXCONFDIR', '_WIN32_CLIENT_RELEASES', '_WIN32_SERVER_RELEASES', '__builtins__', '__cached__', '__copyright__', '__doc__', '__file__', '__loader__', '__name__', '__package__', '__spec__', '__version__', '_comparable_version', '_component_re', '_default_architecture', '_dist_try_harder', '_follow_symlinks', '_ironpython26_sys_version_parser', '_ironpython_sys_version_parser', '_java_getprop', '_libc_search', '_linux_distribution', '_lsb_release_version', '_mac_ver_xml', '_node', '_norm_version', '_parse_release_file', '_platform', '_platform_cache', '_pypy_sys_version_parser', '_release_filename', '_release_version', '_supported_dists', '_sys_version', '_sys_version_cache', '_sys_version_parser', '_syscmd_file', '_syscmd_uname', '_syscmd_ver', '_uname_cache', '_ver_output', '_ver_stages', 'architecture', 'collections', 'dist', 'java_ver', 'libc_ver', 'linux_distribution', 'mac_ver', 'machine', 'node', 'os', 'platform', 'popen', 'processor', 'python_branch', 'python_build', 'python_compiler', 'python_implementation', 'python_revision', 'python_version', 'python_version_tuple', 're', 'release', 'subprocess', 'sys', 'system', 'system_alias', 'uname', 'uname_result', 'version', 'warnings', 'win32_ver']\n",
      "1.0.8\n"
     ]
    }
   ],
   "source": [
    "# List all the defined names belonging to the platform module:\n",
    "import platform\n",
    "\n",
    "x = dir(platform)\n",
    "print(x)\n",
    "\n",
    "x2 = platform.__version__\n",
    "print(x2)"
   ]
  },
  {
   "cell_type": "markdown",
   "metadata": {},
   "source": [
    "## Import From Module\n",
    "\n",
    "You can choose to import only parts from a module, by using the from keyword."
   ]
  },
  {
   "cell_type": "code",
   "execution_count": 56,
   "metadata": {},
   "outputs": [
    {
     "name": "stdout",
     "output_type": "stream",
     "text": [
      "46\n"
     ]
    }
   ],
   "source": [
    "# Import only the person2 dictionary from the module:\n",
    "from mymodule2 import person2\n",
    "print (person2[\"age\"])"
   ]
  },
  {
   "cell_type": "markdown",
   "metadata": {},
   "source": [
    "# 21) Python Datetime\n",
    "\n",
    "A date in Python is not a data type of its own, but we can import a module named datetime to work with dates as date objects."
   ]
  },
  {
   "cell_type": "code",
   "execution_count": 57,
   "metadata": {},
   "outputs": [
    {
     "name": "stdout",
     "output_type": "stream",
     "text": [
      "2020-08-13 12:03:42.738167\n"
     ]
    }
   ],
   "source": [
    "# Import the datetime module and display the current date:\n",
    "import datetime\n",
    "x = datetime.datetime.now()\n",
    "print(x)"
   ]
  },
  {
   "cell_type": "markdown",
   "metadata": {},
   "source": [
    "### Date Output\n",
    "When we execute the code from the example above the result will be:\n",
    "\n",
    "2020-08-13 12:02:52.730743\n",
    "The date contains year, month, day, hour, minute, second, and microsecond.\n",
    "\n",
    "The datetime module has many methods to return information about the date object.\n",
    "\n",
    "Here are a few examples, you will learn more about them later in this chapter:"
   ]
  },
  {
   "cell_type": "code",
   "execution_count": 58,
   "metadata": {},
   "outputs": [
    {
     "name": "stdout",
     "output_type": "stream",
     "text": [
      "2020\n",
      "Thursday\n"
     ]
    }
   ],
   "source": [
    "# Return the year and name of weekday:\n",
    "import datetime\n",
    "x = datetime.datetime.now()\n",
    "print(x.year)\n",
    "print(x.strftime(\"%A\"))"
   ]
  },
  {
   "cell_type": "markdown",
   "metadata": {},
   "source": [
    "## Creating Date Objects\n",
    "To create a date, we can use the datetime() class (constructor) of the datetime module.\n",
    "\n",
    "The datetime() class requires three parameters to create a date: year, month, day.\n",
    "\n",
    "The datetime() class also takes parameters for time and timezone (hour, minute, second, microsecond, tzone), but they are optional, and has a default value of 0, (None for timezone)."
   ]
  },
  {
   "cell_type": "code",
   "execution_count": 59,
   "metadata": {},
   "outputs": [
    {
     "name": "stdout",
     "output_type": "stream",
     "text": [
      "2020-05-17 00:00:00\n"
     ]
    }
   ],
   "source": [
    "# Create a date object:\n",
    "import datetime\n",
    "x = datetime.datetime(2020, 5, 17)\n",
    "print(x)"
   ]
  },
  {
   "cell_type": "markdown",
   "metadata": {},
   "source": [
    "### The strftime() Method\n",
    "The datetime object has a method for formatting date objects into readable strings.\n",
    "\n",
    "The method is called strftime(), and takes one parameter, format, to specify the format of the returned string:"
   ]
  },
  {
   "cell_type": "code",
   "execution_count": 61,
   "metadata": {},
   "outputs": [
    {
     "name": "stdout",
     "output_type": "stream",
     "text": [
      "June\n"
     ]
    }
   ],
   "source": [
    "# Display the name of the month:\n",
    "\n",
    "import datetime\n",
    "\n",
    "x = datetime.datetime(2018, 6, 1)\n",
    "\n",
    "print(x.strftime(\"%B\"))"
   ]
  },
  {
   "cell_type": "markdown",
   "metadata": {},
   "source": [
    "|Directive|\tDescription|\tExample\t|\n",
    "|-|-|-|\n",
    "|%a\t|Weekday, short version|\tWed\t|\n",
    "|%A\t|Weekday, full version\t|Wednesday\t|\n",
    "|%w\t|Weekday as a number 0-6, 0 is Sunday|\t3\t|\n",
    "|%d\t|Day of month 01-31|\t31\t|\n",
    "|%b\t|Month name, short version|\tDec\t|\n",
    "|%B\t|Month name, full version\t|December\t|\n",
    "|%m\t|Month as a number 01-12|\t12\t|\n",
    "|%y\t|Year, short version, without century\t|18\t|\n",
    "|%Y\t|Year, full version\t|2018\t|\n",
    "|%H\t|Hour 00-23\t|17\t|\n",
    "|%I\t|Hour 00-12|\t05\t|\n",
    "|%p\t|AM/PM\t|PM\t|\n",
    "|%M\t|Minute 00-59\t|41\t|\n",
    "|%S\t|Second 00-59\t|08\t|\n",
    "|%f\t|Microsecond 000000-999999\t|548513\t|\n",
    "|%z\t|UTC offset\t|+0100\t|\n",
    "|%Z\t|Timezone\t|CST\t|\n",
    "|%j\t|Day number of year |001-366\t365\t|\n",
    "|%U\t|Week number of year, Sunday as the first day of week, 00-53\t|52\t|\n",
    "|%W\t|Week number of year, Monday as the first day of week, 00-53\t|52\t|\n",
    "|%c\t|Local version of date and time\tM|on Dec 31 17:41:00 2018\t|\n",
    "|%x\t|Local version of date\t|12/31/18\t|\n",
    "|%X\t|Local version of time\t|17:41:00\t|\n",
    "|%%\t|A % character\t%|"
   ]
  },
  {
   "cell_type": "markdown",
   "metadata": {},
   "source": [
    "# 22) Python Math\n",
    "\n",
    "Python has a set of built-in math functions, including an extensive math module, that allows you to perform mathematical tasks on numbers.\n",
    "\n",
    "### Built-in Math Functions\n",
    "The min() and max() functions can be used to find the lowest or highest value in an iterable:"
   ]
  },
  {
   "cell_type": "code",
   "execution_count": 63,
   "metadata": {},
   "outputs": [
    {
     "name": "stdout",
     "output_type": "stream",
     "text": [
      "5\n",
      "25\n",
      "7.25\n",
      "64\n"
     ]
    }
   ],
   "source": [
    "#find min and max\n",
    "x = min(5, 10, 25)\n",
    "y = max(5, 10, 25)\n",
    "\n",
    "print(x)\n",
    "print(y)\n",
    "\n",
    "#The abs() function returns the absolute (positive) value of the specified number:\n",
    "x = abs(-7.25)\n",
    "print(x)\n",
    "\n",
    "# The pow(x, y) function returns the value of x to the power of y (xy).\n",
    "# Return the value of 4 to the power of 3 (same as 4 * 4 * 4):\n",
    "x = pow(4, 3)\n",
    "print(x)"
   ]
  },
  {
   "cell_type": "markdown",
   "metadata": {},
   "source": [
    "### The Math Module\n",
    "Python has also a built-in module called math, which extends the list of mathematical functions.\n",
    "\n",
    "When you have imported the math module, you can start using methods and constants of the module.\n",
    "\n",
    "The math.sqrt() method for example, returns the square root of a number:\n",
    "\n",
    "To use it, you must import the math module:"
   ]
  },
  {
   "cell_type": "code",
   "execution_count": 64,
   "metadata": {},
   "outputs": [
    {
     "name": "stdout",
     "output_type": "stream",
     "text": [
      "8.0\n",
      "2\n",
      "1\n",
      "3.141592653589793\n"
     ]
    }
   ],
   "source": [
    "import math\n",
    "\n",
    "x = math.sqrt(64)\n",
    "print(x)\n",
    "\n",
    "x = math.ceil(1.4)\n",
    "y = math.floor(1.4)\n",
    "print(x) # returns 2\n",
    "print(y) # returns 1\n",
    "\n",
    "# The math.pi constant, returns the value of PI (3.14...):\n",
    "x = math.pi\n",
    "print(x)"
   ]
  },
  {
   "cell_type": "markdown",
   "metadata": {},
   "source": [
    "### Math Methods\n",
    "|Method\t| Description|\n",
    "|-|-|\n",
    "|math.acos(x)\t|Returns the arc cosine value of x|\n",
    "|math.acosh(x)\t|Returns the hyperbolic arc cosine of x|\n",
    "|math.asin(x)\t|Returns the arc sine of x|\n",
    "|math.asinh(x)\t|Returns the hyperbolic arc sine of x|\n",
    "|math.atan(x)\t|Returns the arc tangent value of x|\n",
    "|math.atan2(y, x)\t|Returns the arc tangent of y/x in radians|\n",
    "|math.atanh(x)\t|Returns the hyperbolic arctangent value of x|\n",
    "|math.ceil(x)\t|Rounds a number upwards to the nearest integer, and returns the result|\n",
    "|math.comb(n, k)\t|Returns the number of ways to choose k items from n items without repetition and order|\n",
    "|math.copysign(x, y)|\tReturns a float consisting of the value of the first parameter and the sign of the second parameter|\n",
    "|math.cos(x)|\tReturns the cosine of x|\n",
    "|math.cosh(x)|\tReturns the hyperbolic cosine of x|\n",
    "|math.degrees(x)|\tConverts an angle from radians to degrees|\n",
    "|math.dist(p, q)|\tCalculates the euclidean distance between two specified points (p and q), where p and q are the coordinates of that point|\n",
    "|math.erf(x)|\tReturns the error function of x|\n",
    "|math.erfc(x)|\tReturns the complementary error function of x|\n",
    "|math.exp(x)\t|Returns the value of Ex, where E is Euler's number (approximately 2.718281...), and x is the number passed to it|\n",
    "|math.expm1(x)\t|Returns the value of Ex - 1, where E is Euler's number (approximately 2.718281...), and x is the number passed to it|\n",
    "|math.fabs(x)|\tReturns the absolute value of a number|\n",
    "|math.factorial()|\tReturns the factorial of a number|\n",
    "|math.floor(x)|\tRounds a number downwards to the nearest integer, and returns the result|\n",
    "|math.fmod(x, y)|\tReturns the remainder of specified numbers when a number is divided by another number|\n",
    "|math.frexp()|\tReturns the mantissa and the exponent, of a specified value|\n",
    "|math.fsum(iterable)|\tReturns the sum of all items in an iterable (tuples, arrays, lists, etc.)|\n",
    "|math.gamma(x)|\tReturns the gamma value of x|\n",
    "|math.gcd()\t| Returns the highest value that can divide two integers|\n",
    "|math.hypot()\t|Find the Euclidean distance from the origin for n inputs|\n",
    "|math.isclose()\t|Checks whether two values are close, or not|\n",
    "|math.isfinite(x)|\tChecks whether x is a finite number|\n",
    "|math.isinf(x)|\tCheck whether x is a positive or negative infinty|\n",
    "|math.isnan(x)\t|Checks whether x is NaN (not a number)|\n",
    "|math.isqrt(n)\t|Returns the nearest integer square root of n|\n",
    "|math.ldexp(x, i)|\tReturns the expression x * 2i where x is mantissa and i is an exponent|\n",
    "|math.lgamma(x)\t|Returns the log gamma value of x|\n",
    "|math.log(x, base)|\tReturns the natural logarithm of a number, or the logarithm of number to base|\n",
    "|math.log10(x)\t|Returns the base-10 logarithm of x|\n",
    "|math.log1p(x)\t|Returns the natural logarithm of 1+x|\n",
    "|math.log2(x)\t|Returns the base-2 logarithm of x|\n",
    "|math.perm(n, k)\t|Returns the number of ways to choose k items from n items with order and without repetition|\n",
    "|math.pow(x, y)|\tReturns the value of x to the power of y|\n",
    "|math.prod(iterable, *, start=1)|\tReturns the product of an iterable (lists, array, tuples, etc.)|\n",
    "|math.radians(x)\t|Converts a degree value (x) to radians|\n",
    "|math.remainder(x, y)\t|Returns the closest value that can make numerator completely divisible by the denominator|\n",
    "|math.sin(x)\t|Returns the sine of x|\n",
    "|math.sinh(x)\t|Returns the hyperbolic sine of x|\n",
    "|math.sqrt(x)\t|Returns the square root of x|\n",
    "|math.tan(x)\t|Returns the tangent of x|\n",
    "|math.tanh(x)\t|Returns the hyperbolic tangent of x|\n",
    "|math.trunc(x)\t|Returns the truncated integer parts of x|"
   ]
  },
  {
   "cell_type": "markdown",
   "metadata": {},
   "source": [
    "### Math Constants\n",
    "|Constant\t|Description|\n",
    "|-|-|\n",
    "|math.e\t|Returns Euler's number (2.7182...)|\n",
    "|math.inf\t|Returns a floating-point positive infinity|\n",
    "|math.nan\t|Returns a floating-point NaN (Not a Number) value|\n",
    "|math.pi\t|Returns PI (3.1415...)|\n",
    "|math.tau\t|Returns tau (6.2831...)|"
   ]
  },
  {
   "cell_type": "markdown",
   "metadata": {},
   "source": [
    "# 23) Python JSON\n",
    "\n",
    "JSON is a syntax for storing and exchanging data.\n",
    "\n",
    "JSON is text, written with JavaScript object notation.\n",
    "\n",
    "Python has a built-in package called json, which can be used to work with JSON data."
   ]
  },
  {
   "cell_type": "code",
   "execution_count": 65,
   "metadata": {},
   "outputs": [
    {
     "name": "stdout",
     "output_type": "stream",
     "text": [
      "30\n"
     ]
    }
   ],
   "source": [
    "# Convert from JSON to Python:\n",
    "\n",
    "import json\n",
    "\n",
    "# some JSON:\n",
    "x =  '{ \"name\":\"John\", \"age\":30, \"city\":\"New York\"}'\n",
    "\n",
    "# parse x:\n",
    "y = json.loads(x)\n",
    "\n",
    "# the result is a Python dictionary:\n",
    "print(y[\"age\"])"
   ]
  },
  {
   "cell_type": "markdown",
   "metadata": {},
   "source": [
    "### Convert from Python to JSON\n",
    "\n",
    "If you have a Python object, you can convert it into a JSON string by using the json.dumps() method."
   ]
  },
  {
   "cell_type": "code",
   "execution_count": 66,
   "metadata": {},
   "outputs": [
    {
     "name": "stdout",
     "output_type": "stream",
     "text": [
      "{\"name\": \"John\", \"age\": 30, \"city\": \"New York\"}\n"
     ]
    }
   ],
   "source": [
    "# Convert from Python to JSON:\n",
    "import json\n",
    "\n",
    "# a Python object (dict):\n",
    "x = {\n",
    "  \"name\": \"John\",\n",
    "  \"age\": 30,\n",
    "  \"city\": \"New York\"\n",
    "}\n",
    "\n",
    "# convert into JSON:\n",
    "y = json.dumps(x)\n",
    "\n",
    "# the result is a JSON string:\n",
    "print(y)"
   ]
  },
  {
   "cell_type": "markdown",
   "metadata": {},
   "source": [
    "You can convert Python objects of the following types, into JSON strings:\n",
    "\n",
    "dict <br>\n",
    "list<br>\n",
    "tuple<br>\n",
    "string<br>\n",
    "int<br>\n",
    "float<br>\n",
    "True<br>\n",
    "False<br>\n",
    "None"
   ]
  },
  {
   "cell_type": "code",
   "execution_count": 67,
   "metadata": {},
   "outputs": [
    {
     "name": "stdout",
     "output_type": "stream",
     "text": [
      "{\"name\": \"John\", \"age\": 30}\n",
      "[\"apple\", \"bananas\"]\n",
      "[\"apple\", \"bananas\"]\n",
      "\"hello\"\n",
      "42\n",
      "31.76\n",
      "true\n",
      "false\n",
      "null\n"
     ]
    }
   ],
   "source": [
    "# Convert Python objects into JSON strings, and print the values:\n",
    "\n",
    "import json\n",
    "\n",
    "print(json.dumps({\"name\": \"John\", \"age\": 30}))\n",
    "print(json.dumps([\"apple\", \"bananas\"]))\n",
    "print(json.dumps((\"apple\", \"bananas\")))\n",
    "print(json.dumps(\"hello\"))\n",
    "print(json.dumps(42))\n",
    "print(json.dumps(31.76))\n",
    "print(json.dumps(True))\n",
    "print(json.dumps(False))\n",
    "print(json.dumps(None))"
   ]
  },
  {
   "cell_type": "markdown",
   "metadata": {},
   "source": [
    "When you convert from Python to JSON, Python objects are converted into the JSON (JavaScript) equivalent:\n",
    "\n",
    "|Python\t|JSON|\n",
    "|-|-|\n",
    "|dict\t|Object|\n",
    "|list\t|Array|\n",
    "|tuple\t|Array|\n",
    "|str\t|String|\n",
    "|int\t|Number|\n",
    "|float\t|Number|\n",
    "|True\t|true|\n",
    "|False\t|false|\n",
    "|None\t|null|"
   ]
  },
  {
   "cell_type": "code",
   "execution_count": 68,
   "metadata": {},
   "outputs": [
    {
     "name": "stdout",
     "output_type": "stream",
     "text": [
      "{\"name\": \"John\", \"age\": 30, \"married\": true, \"divorced\": false, \"children\": [\"Ann\", \"Billy\"], \"pets\": null, \"cars\": [{\"model\": \"BMW 230\", \"mpg\": 27.5}, {\"model\": \"Ford Edge\", \"mpg\": 24.1}]}\n"
     ]
    }
   ],
   "source": [
    "# Convert a Python object containing all the legal data types:\n",
    "\n",
    "import json\n",
    "\n",
    "x = {\n",
    "  \"name\": \"John\",\n",
    "  \"age\": 30,\n",
    "  \"married\": True,\n",
    "  \"divorced\": False,\n",
    "  \"children\": (\"Ann\",\"Billy\"),\n",
    "  \"pets\": None,\n",
    "  \"cars\": [\n",
    "    {\"model\": \"BMW 230\", \"mpg\": 27.5},\n",
    "    {\"model\": \"Ford Edge\", \"mpg\": 24.1}\n",
    "  ]\n",
    "}\n",
    "\n",
    "print(json.dumps(x))"
   ]
  },
  {
   "cell_type": "markdown",
   "metadata": {},
   "source": [
    "### Format the Result\n",
    "\n",
    "The example above prints a JSON string, but it is not very easy to read, with no indentations and line breaks.\n",
    "\n",
    "The json.dumps() method has parameters to make it easier to read the result:"
   ]
  },
  {
   "cell_type": "code",
   "execution_count": 69,
   "metadata": {},
   "outputs": [
    {
     "data": {
      "text/plain": [
       "'{\\n    \"name\": \"John\",\\n    \"age\": 30,\\n    \"married\": true,\\n    \"divorced\": false,\\n    \"children\": [\\n        \"Ann\",\\n        \"Billy\"\\n    ],\\n    \"pets\": null,\\n    \"cars\": [\\n        {\\n            \"model\": \"BMW 230\",\\n            \"mpg\": 27.5\\n        },\\n        {\\n            \"model\": \"Ford Edge\",\\n            \"mpg\": 24.1\\n        }\\n    ]\\n}'"
      ]
     },
     "execution_count": 69,
     "metadata": {},
     "output_type": "execute_result"
    }
   ],
   "source": [
    "# Use the indent parameter to define the numbers of indents:\n",
    "\n",
    "json.dumps(x, indent=4)"
   ]
  },
  {
   "cell_type": "code",
   "execution_count": 70,
   "metadata": {},
   "outputs": [
    {
     "data": {
      "text/plain": [
       "'{\\n    \"name\" = \"John\". \\n    \"age\" = 30. \\n    \"married\" = true. \\n    \"divorced\" = false. \\n    \"children\" = [\\n        \"Ann\". \\n        \"Billy\"\\n    ]. \\n    \"pets\" = null. \\n    \"cars\" = [\\n        {\\n            \"model\" = \"BMW 230\". \\n            \"mpg\" = 27.5\\n        }. \\n        {\\n            \"model\" = \"Ford Edge\". \\n            \"mpg\" = 24.1\\n        }\\n    ]\\n}'"
      ]
     },
     "execution_count": 70,
     "metadata": {},
     "output_type": "execute_result"
    }
   ],
   "source": [
    "# You can also define the separators, default value is (\", \", \": \"), \n",
    "# which means using a comma and a space to separate each object, \n",
    "# and a colon and a space to separate keys from values:\n",
    "\n",
    "json.dumps(x, indent=4, separators=(\". \", \" = \"))"
   ]
  },
  {
   "cell_type": "markdown",
   "metadata": {},
   "source": [
    "### Order the Result\n",
    "The json.dumps() method has parameters to order the keys in the result:"
   ]
  },
  {
   "cell_type": "code",
   "execution_count": 71,
   "metadata": {},
   "outputs": [
    {
     "data": {
      "text/plain": [
       "'{\\n    \"age\": 30,\\n    \"cars\": [\\n        {\\n            \"model\": \"BMW 230\",\\n            \"mpg\": 27.5\\n        },\\n        {\\n            \"model\": \"Ford Edge\",\\n            \"mpg\": 24.1\\n        }\\n    ],\\n    \"children\": [\\n        \"Ann\",\\n        \"Billy\"\\n    ],\\n    \"divorced\": false,\\n    \"married\": true,\\n    \"name\": \"John\",\\n    \"pets\": null\\n}'"
      ]
     },
     "execution_count": 71,
     "metadata": {},
     "output_type": "execute_result"
    }
   ],
   "source": [
    "# Use the sort_keys parameter to specify if the result should be sorted or not:\n",
    "\n",
    "json.dumps(x, indent=4, sort_keys=True)"
   ]
  },
  {
   "cell_type": "markdown",
   "metadata": {},
   "source": [
    "# 24) Python RegEx\n",
    "\n",
    "A RegEx, or Regular Expression, is a sequence of characters that forms a search pattern.\n",
    "\n",
    "RegEx can be used to check if a string contains the specified search pattern.\n",
    "\n",
    "### RegEx Module\n",
    "Python has a built-in package called re, which can be used to work with Regular Expressions.\n",
    "\n",
    "Import the re module:"
   ]
  },
  {
   "cell_type": "code",
   "execution_count": 76,
   "metadata": {},
   "outputs": [
    {
     "name": "stdout",
     "output_type": "stream",
     "text": [
      "<re.Match object; span=(0, 17), match='The rain in Spain'>\n",
      "True\n"
     ]
    }
   ],
   "source": [
    "# Search the string to see if it starts with \"The\" and ends with \"Spain\":\n",
    "\n",
    "import re\n",
    "\n",
    "txt = \"The rain in Spain\"\n",
    "x = re.search(\"^The.*Spain$\", txt)\n",
    "print(x)\n",
    "print(bool(x))"
   ]
  },
  {
   "cell_type": "markdown",
   "metadata": {},
   "source": [
    "### The findall() Function\n",
    "The findall() function returns a list containing all matches."
   ]
  },
  {
   "cell_type": "code",
   "execution_count": 78,
   "metadata": {},
   "outputs": [
    {
     "name": "stdout",
     "output_type": "stream",
     "text": [
      "['ai', 'ai']\n",
      "[]\n"
     ]
    }
   ],
   "source": [
    "import re\n",
    "# Print a list of all matches:\n",
    "txt = \"The rain in Spain\"\n",
    "x = re.findall(\"ai\", txt)\n",
    "print(x)\n",
    "\n",
    "# Return an empty list if no match was found:\n",
    "txt = \"The rain in Spain\"\n",
    "x = re.findall(\"Portugal\", txt)\n",
    "print(x)"
   ]
  },
  {
   "cell_type": "markdown",
   "metadata": {},
   "source": [
    "### The search() Function\n",
    "The search() function searches the string for a match, and returns a Match object if there is a match.\n",
    "\n",
    "If there is more than one match, only the first occurrence of the match will be returned:"
   ]
  },
  {
   "cell_type": "code",
   "execution_count": 80,
   "metadata": {},
   "outputs": [
    {
     "name": "stdout",
     "output_type": "stream",
     "text": [
      "The first white-space character is located in position: 3\n"
     ]
    }
   ],
   "source": [
    "# Search for the first white-space character in the string:\n",
    "import re\n",
    "b\n",
    "txt = \"The rain in Spain\"\n",
    "x = re.search(\"\\s\", txt)\n",
    "\n",
    "print(\"The first white-space character is located in position:\", x.start())"
   ]
  },
  {
   "cell_type": "markdown",
   "metadata": {},
   "source": [
    "### The split() Function\n",
    "The split() function returns a list where the string has been split at each match:"
   ]
  },
  {
   "cell_type": "code",
   "execution_count": 82,
   "metadata": {},
   "outputs": [
    {
     "name": "stdout",
     "output_type": "stream",
     "text": [
      "['The', 'rain', 'in', 'Spain']\n",
      "['The', 'rain in Spain']\n"
     ]
    }
   ],
   "source": [
    "import re\n",
    "\n",
    "# Split at each white-space character:\n",
    "txt = \"The rain in Spain\"\n",
    "x = re.split(\"\\s\", txt)\n",
    "print(x)\n",
    "\n",
    "# You can control the number of occurrences by specifying the maxsplit parameter:\n",
    "# Split the string only at the first occurrence:\n",
    "txt = \"The rain in Spain\"\n",
    "x = re.split(\"\\s\", txt, 1)\n",
    "print(x)"
   ]
  },
  {
   "cell_type": "markdown",
   "metadata": {},
   "source": [
    "### The sub() Function\n",
    "The sub() function replaces the matches with the text of your choice:"
   ]
  },
  {
   "cell_type": "code",
   "execution_count": 84,
   "metadata": {},
   "outputs": [
    {
     "name": "stdout",
     "output_type": "stream",
     "text": [
      "The9rain9in9Spain\n",
      "The9rain9in Spain\n"
     ]
    }
   ],
   "source": [
    "# Replace every white-space character with the number 9:\n",
    "import re\n",
    "\n",
    "txt = \"The rain in Spain\"\n",
    "x = re.sub(\"\\s\", \"9\", txt)\n",
    "print(x)\n",
    "\n",
    "# Replace the first 2 occurrences:\n",
    "txt = \"The rain in Spain\"\n",
    "x = re.sub(\"\\s\", \"9\", txt, 2)\n",
    "print(x)"
   ]
  },
  {
   "cell_type": "markdown",
   "metadata": {},
   "source": [
    "### Match Object\n",
    "A Match Object is an object containing information about the search and the result.\n",
    "\n",
    "The Match object has properties and methods used to retrieve information about the search, and the result:\n",
    "\n",
    ".span() returns a tuple containing the start-, and end positions of the match.<br>\n",
    ".string returns the string passed into the function <br>\n",
    ".group() returns the part of the string where there was a match"
   ]
  },
  {
   "cell_type": "code",
   "execution_count": 86,
   "metadata": {},
   "outputs": [
    {
     "name": "stdout",
     "output_type": "stream",
     "text": [
      "<re.Match object; span=(5, 7), match='ai'>\n",
      "(12, 17)\n",
      "The rain in Spain\n",
      "Spain\n"
     ]
    }
   ],
   "source": [
    "# Do a search that will return a Match Object:\n",
    "\n",
    "import re\n",
    "\n",
    "txt = \"The rain in Spain\"\n",
    "x = re.search(\"ai\", txt)\n",
    "print(x) #this will print an object\n",
    "\n",
    "# The regular expression looks for any words that starts with an upper case \"S\":\n",
    "txt = \"The rain in Spain\"\n",
    "x = re.search(r\"\\bS\\w+\", txt)\n",
    "print(x.span())\n",
    "\n",
    "# Print the string passed into the function:\n",
    "txt = \"The rain in Spain\"\n",
    "x = re.search(r\"\\bS\\w+\", txt)\n",
    "print(x.string)\n",
    "\n",
    "# The regular expression looks for any words that starts with an upper case \"S\":\n",
    "txt = \"The rain in Spain\"\n",
    "x = re.search(r\"\\bS\\w+\", txt)\n",
    "print(x.group())"
   ]
  },
  {
   "cell_type": "markdown",
   "metadata": {},
   "source": [
    "### RegEx Functions\n",
    "The re module offers a set of functions that allows us to search a string for a match:\n",
    "\n",
    "| Function\t| Description| \n",
    "| -| -| \n",
    "| findall\t| Returns a list containing all matches| \n",
    "| search\t| Returns a Match object if there is a match anywhere in the string| \n",
    "| split\t| Returns a list where the string has been split at each match| \n",
    "| sub\t| Replaces one or many matches with a string| \n",
    "\n",
    "### Metacharacters\n",
    "Metacharacters are characters with a special meaning:\n",
    "\n",
    "| Character\t| Description| \tExample\t| \n",
    "| -| -| -| \n",
    "| []\t| A set of characters\t| \"[a-m]\"\t| \n",
    "| \\\t| Signals a special sequence (can also be used to escape special characters)| \t\"\\d\" | | .\t| Any character (except newline character)\t| \"he..o\"\t| \n",
    "| ^\t| Starts with\t| \"^hello\"\t| \n",
    "| \\$| Ends with| \"world$\"\t| \n",
    "| *\t| Zero or more occurrences\t| \"aix*\"\t| \n",
    "| +\t| One or more occurrences| \t\"aix+\"\t| \n",
    "| {}\t| Exactly the specified number of occurrences| \t\"al{2}\"\t| \n",
    "|\t'| 'Either or\t\"falls|stays\"\t| \n",
    "| ()\t| Capture and group| - | "
   ]
  },
  {
   "cell_type": "markdown",
   "metadata": {},
   "source": [
    "### Special Sequences\n",
    "A special sequence is a \\ followed by one of the characters in the list below, and has a special meaning:\n",
    "\n",
    "| Character\t|Description\t|Example\t|\n",
    "|-|-|-|\n",
    "|\\A\t|Returns a match if the specified characters are at the beginning of the string\t|\"\\AThe\"\t|\n",
    "\\b\t|Returns a match where the specified characters are at the beginning or at the end of a word (the \"r\" in the beginning is making sure that the string is being treated as a \"raw string\")\t|r\"\\bain\" r\"ain\\b\"\t|\n",
    "|\\B\t|Returns a match where the specified characters are present, but NOT at the beginning (or at the end) of a word (the \"r\" in the beginning is making sure that the string is being treated as a \"raw string\")\t|r\"\\Bain\" r\"ain\\B\"\t|\n",
    "|\\d\t|Returns a match where the string contains digits (numbers from 0-9)|\t\"\\d\"\t|\n",
    "|\\D\t|Returns a match where the string DOES NOT contain digits\t|\"\\D\"\t|\n",
    "|\\s\t|Returns a match where the string contains a white space character\t|\"\\s\"\t|\n",
    "|\\S\t|Returns a match where the string DOES NOT contain a white space character\t|\"\\S\"\t|\n",
    "|\\w\t|Returns a match where the string contains any word characters (characters from a to Z, digits from 0-9, and the underscore _ character)|\t\"\\w\"\t|\n",
    "|\\W\t|Returns a match where the string DOES NOT contain any word characters\t|\"\\W\"\t|\n",
    "|\\Z\t|Returns a match if the specified characters are at the end of the string\t|\"Spain\\Z\"|"
   ]
  },
  {
   "cell_type": "markdown",
   "metadata": {},
   "source": [
    "### Sets\n",
    "A set is a set of characters inside a pair of square brackets [] with a special meaning:\n",
    "\n",
    "|Set\t|Description\t|\n",
    "|-|-|\n",
    "|[arn]\t|Returns a match where one of the specified characters (a, r, or n) are present\t|\n",
    "|[a-n]\t|Returns a match for any lower case character, alphabetically between a and n\t|\n",
    "|[^arn]\t|Returns a match for any character EXCEPT a, r, and n\t|\n",
    "|[0123]\t|Returns a match where any of the specified digits (0, 1, 2, or 3) are present\t|\n",
    "|[0-9]\t|Returns a match for any digit between 0 and 9\t|\n",
    "|[0-5][0-9]|\tReturns a match for any two-digit numbers from 00 and 59\t|\n",
    "|[a-zA-Z]\t|Returns a match for any character alphabetically between a and z, lower case OR upper case\t|\n",
    "|[+]\t|In sets, +, *, ., |, (), $,{} has no special meaning, so [+] means: return a match for any + character in the string|"
   ]
  },
  {
   "cell_type": "markdown",
   "metadata": {},
   "source": [
    "# 25) Python Try Except\n",
    "The try block lets you test a block of code for errors.\n",
    "\n",
    "The except block lets you handle the error.\n",
    "\n",
    "The finally block lets you execute code, regardless of the result of the try- and except blocks.\n",
    "\n",
    "### Exception Handling\n",
    "When an error occurs, or exception as we call it, Python will normally stop and generate an error message.\n",
    "\n",
    "These exceptions can be handled using the try statement:"
   ]
  },
  {
   "cell_type": "code",
   "execution_count": 99,
   "metadata": {},
   "outputs": [
    {
     "name": "stdout",
     "output_type": "stream",
     "text": [
      "An exception occurred\n",
      "Variable ggggg2 is not defined\n",
      "Hello\n",
      "Nothing went wrong\n",
      "-1\n",
      "The 'try except' is finished\n",
      "Something went wrong when writing to the file\n"
     ]
    },
    {
     "ename": "Exception",
     "evalue": "Sorry, no numbers below zero",
     "output_type": "error",
     "traceback": [
      "\u001b[0;31m---------------------------------------------------------------------------\u001b[0m",
      "\u001b[0;31mException\u001b[0m                                 Traceback (most recent call last)",
      "\u001b[0;32m<ipython-input-99-edab041c36e3>\u001b[0m in \u001b[0;36m<module>\u001b[0;34m\u001b[0m\n\u001b[1;32m     41\u001b[0m \u001b[0mx\u001b[0m \u001b[0;34m=\u001b[0m \u001b[0;34m-\u001b[0m\u001b[0;36m1\u001b[0m\u001b[0;34m\u001b[0m\u001b[0;34m\u001b[0m\u001b[0m\n\u001b[1;32m     42\u001b[0m \u001b[0;32mif\u001b[0m \u001b[0mx\u001b[0m \u001b[0;34m<\u001b[0m \u001b[0;36m0\u001b[0m\u001b[0;34m:\u001b[0m\u001b[0;34m\u001b[0m\u001b[0;34m\u001b[0m\u001b[0m\n\u001b[0;32m---> 43\u001b[0;31m   \u001b[0;32mraise\u001b[0m \u001b[0mException\u001b[0m\u001b[0;34m(\u001b[0m\u001b[0;34m\"Sorry, no numbers below zero\"\u001b[0m\u001b[0;34m)\u001b[0m\u001b[0;34m\u001b[0m\u001b[0;34m\u001b[0m\u001b[0m\n\u001b[0m\u001b[1;32m     44\u001b[0m \u001b[0;34m\u001b[0m\u001b[0m\n\u001b[1;32m     45\u001b[0m \u001b[0;31m# Raise a TypeError if x is not an integer:\u001b[0m\u001b[0;34m\u001b[0m\u001b[0;34m\u001b[0m\u001b[0;34m\u001b[0m\u001b[0m\n",
      "\u001b[0;31mException\u001b[0m: Sorry, no numbers below zero"
     ]
    }
   ],
   "source": [
    "# The try block will generate an exception, because gggg is not defined:\n",
    "try:\n",
    "  print(gggg)\n",
    "except:\n",
    "  print(\"An exception occurred\")\n",
    "\n",
    "# Print one message if the try block raises a NameError and another for other errors:\n",
    "try:\n",
    "  print(ggggg2)\n",
    "except NameError:\n",
    "  print(\"Variable ggggg2 is not defined\")\n",
    "except:\n",
    "  print(\"Something else went wrong\")\n",
    "\n",
    "# In this example, the try block does not generate any error:\n",
    "try:\n",
    "  print(\"Hello\")\n",
    "except:\n",
    "  print(\"Something went wrong\")\n",
    "else:\n",
    "  print(\"Nothing went wrong\")\n",
    "\n",
    "# The finally block, \n",
    "# if specified, will be executed regardless if the try block raises an error or not.\n",
    "try:\n",
    "  print(x)\n",
    "except:\n",
    "  print(\"Something went wrong\")\n",
    "finally:\n",
    "  print(\"The 'try except' is finished\")\n",
    "\n",
    "# This can be useful to close objects and clean up resources:\n",
    "# Try to open and write to a file that is not writable:\n",
    "try:\n",
    "  af = open(\"demofile.txt\")\n",
    "  af.write(\"Lorum Ipsum\")\n",
    "except:\n",
    "  print(\"Something went wrong when writing to the file\")\n",
    "\n",
    "# Raise an error and stop the program if x is lower than 0:\n",
    "x = -1\n",
    "if x < 0:\n",
    "  raise Exception(\"Sorry, no numbers below zero\")"
   ]
  },
  {
   "cell_type": "code",
   "execution_count": 100,
   "metadata": {
    "scrolled": true
   },
   "outputs": [
    {
     "ename": "TypeError",
     "evalue": "Only integers are allowed",
     "output_type": "error",
     "traceback": [
      "\u001b[0;31m---------------------------------------------------------------------------\u001b[0m",
      "\u001b[0;31mTypeError\u001b[0m                                 Traceback (most recent call last)",
      "\u001b[0;32m<ipython-input-100-1d74fa053013>\u001b[0m in \u001b[0;36m<module>\u001b[0;34m\u001b[0m\n\u001b[1;32m      2\u001b[0m \u001b[0mx\u001b[0m \u001b[0;34m=\u001b[0m \u001b[0;34m\"hello\"\u001b[0m\u001b[0;34m\u001b[0m\u001b[0;34m\u001b[0m\u001b[0m\n\u001b[1;32m      3\u001b[0m \u001b[0;32mif\u001b[0m \u001b[0;32mnot\u001b[0m \u001b[0mtype\u001b[0m\u001b[0;34m(\u001b[0m\u001b[0mx\u001b[0m\u001b[0;34m)\u001b[0m \u001b[0;32mis\u001b[0m \u001b[0mint\u001b[0m\u001b[0;34m:\u001b[0m\u001b[0;34m\u001b[0m\u001b[0;34m\u001b[0m\u001b[0m\n\u001b[0;32m----> 4\u001b[0;31m   \u001b[0;32mraise\u001b[0m \u001b[0mTypeError\u001b[0m\u001b[0;34m(\u001b[0m\u001b[0;34m\"Only integers are allowed\"\u001b[0m\u001b[0;34m)\u001b[0m\u001b[0;34m\u001b[0m\u001b[0;34m\u001b[0m\u001b[0m\n\u001b[0m",
      "\u001b[0;31mTypeError\u001b[0m: Only integers are allowed"
     ]
    }
   ],
   "source": [
    "# Raise a TypeError if x is not an integer:\n",
    "x = \"hello\"\n",
    "if not type(x) is int:\n",
    "  raise TypeError(\"Only integers are allowed\")"
   ]
  },
  {
   "cell_type": "markdown",
   "metadata": {},
   "source": [
    "# 26) Python User Input\n",
    "\n",
    "Python allows for user input.\n",
    "\n",
    "That means we are able to ask the user for input.\n",
    "\n",
    "The method is a bit different in Python 3.6 than Python 2.7.\n",
    "\n",
    "Python 3.6 uses the input() method.\n",
    "\n",
    "Python 2.7 uses the raw_input() method.\n",
    "\n",
    "The following example asks for the username, and when you entered the username, it gets printed on the screen:"
   ]
  },
  {
   "cell_type": "code",
   "execution_count": 101,
   "metadata": {
    "scrolled": true
   },
   "outputs": [
    {
     "name": "stdout",
     "output_type": "stream",
     "text": [
      "Enter username:abc\n",
      "Username is: abc\n"
     ]
    }
   ],
   "source": [
    "username = input(\"Enter username:\")\n",
    "print(\"Username is: \" + username)"
   ]
  },
  {
   "cell_type": "markdown",
   "metadata": {},
   "source": [
    "# 27) Python File Handling\n",
    "File handling is an important part of any web application.\n",
    "\n",
    "Python has several functions for creating, reading, updating, and deleting files.\n",
    "\n",
    "### File Handling\n",
    "The key function for working with files in Python is the open() function.\n",
    "\n",
    "The open() function takes two parameters; filename, and mode.\n",
    "\n",
    "There are four different methods (modes) for opening a file:\n",
    "\n",
    "\"r\" - Read - Default value. Opens a file for reading, error if the file does not exist\n",
    "\n",
    "\"a\" - Append - Opens a file for appending, creates the file if it does not exist\n",
    "\n",
    "\"w\" - Write - Opens a file for writing, creates the file if it does not exist\n",
    "\n",
    "\"x\" - Create - Creates the specified file, returns an error if the file exists\n",
    "\n",
    "In addition you can specify if the file should be handled as binary or text mode\n",
    "\n",
    "\"t\" - Text - Default value. Text mode\n",
    "\n",
    "\"b\" - Binary - Binary mode (e.g. images)"
   ]
  },
  {
   "cell_type": "code",
   "execution_count": 115,
   "metadata": {},
   "outputs": [
    {
     "name": "stdout",
     "output_type": "stream",
     "text": [
      "Hello! Welcome to demofile.txt\n",
      "This file is for testing purposes.\n",
      "Good Luck!\n",
      "Hello\n",
      "Hello! Welcome to demofile.txt\n",
      "\n",
      "Hello! Welcome to demofile.txt\n",
      "\n",
      "This file is for testing purposes.\n",
      "\n",
      "Hello! Welcome to demofile.txt\n",
      "\n",
      "This file is for testing purposes.\n",
      "\n",
      "Good Luck!\n",
      "Hello! Welcome to demofile.txt\n",
      "\n"
     ]
    }
   ],
   "source": [
    "# To open a file for reading it is enough to specify the name of the file:\n",
    "f = open(\"demofile.txt\")\n",
    "\n",
    "# The code above is the same as:\n",
    "f = open(\"demofile.txt\", \"rt\")\n",
    "print(f.read())\n",
    "\n",
    "# Open a file on a different location:\n",
    "# f = open(\"D:\\\\myfiles\\welcome.txt\", \"r\")\n",
    "\n",
    "# Return the 5 first characters of the file:\n",
    "f = open(\"demofile.txt\", \"r\")\n",
    "print(f.read(5))\n",
    "\n",
    "# Read one line of the file:\n",
    "f = open(\"demofile.txt\", \"r\")\n",
    "print(f.readline())\n",
    "\n",
    "# Read two lines of the file:\n",
    "f = open(\"demofile.txt\", \"r\")\n",
    "print(f.readline())\n",
    "print(f.readline())\n",
    "\n",
    "# Loop through the file line by line:\n",
    "f = open(\"demofile.txt\", \"r\")\n",
    "for x in f:\n",
    "  print(x)\n",
    "\n",
    "# Close the file when you are finish with it:\n",
    "f = open(\"demofile.txt\", \"r\")\n",
    "print(f.readline())\n",
    "f.close()"
   ]
  },
  {
   "cell_type": "markdown",
   "metadata": {},
   "source": [
    "# 27.1) Python File Write\n",
    "\n",
    "Write to an Existing File <br>\n",
    "To write to an existing file, you must add a parameter to the open() function:\n",
    "\n",
    "\"a\" - Append - will append to the end of the file\n",
    "\n",
    "\"w\" - Write - will overwrite any existing content"
   ]
  },
  {
   "cell_type": "code",
   "execution_count": 117,
   "metadata": {},
   "outputs": [
    {
     "name": "stdout",
     "output_type": "stream",
     "text": [
      "Hello! Welcome to demofile.txt\n",
      "This file is for testing purposes.\n",
      "Good Luck!Now the file has more content!Now the file has more content!\n",
      "Woops! I have deleted the content!\n"
     ]
    }
   ],
   "source": [
    "# Open the file \"demofile2.txt\" and append content to the file:\n",
    "\n",
    "f = open(\"demofile.txt\", \"a\")\n",
    "f.write(\"Now the file has more content!\")\n",
    "f.close()\n",
    "\n",
    "#open and read the file after the appending:\n",
    "f = open(\"demofile.txt\", \"r\")\n",
    "print(f.read())\n",
    "\n",
    "# Open the file \"demofile3.txt\" and overwrite the content:\n",
    "f = open(\"demofile.txt\", \"w\")\n",
    "f.write(\"Woops! I have deleted the content!\")\n",
    "f.close()\n",
    "\n",
    "#open and read the file after the appending:\n",
    "f = open(\"demofile.txt\", \"r\")\n",
    "print(f.read())"
   ]
  },
  {
   "cell_type": "markdown",
   "metadata": {},
   "source": [
    "## Create a New File\n",
    "To create a new file in Python, use the open() method, with one of the following parameters:\n",
    "\n",
    "\"x\" - Create - will create a file, returns an error if the file exist\n",
    "\n",
    "\"a\" - Append - will create a file if the specified file does not exist\n",
    "\n",
    "\"w\" - Write - will create a file if the specified file does not exist"
   ]
  },
  {
   "cell_type": "code",
   "execution_count": 123,
   "metadata": {},
   "outputs": [],
   "source": [
    "# Create a file called \"myfile.txt\":\n",
    "f = open(\"myfile.txt\", \"x\")\n",
    "\n",
    "# Create a new file if it does not exist:\n",
    "f = open(\"myfile.txt\", \"w\")"
   ]
  },
  {
   "cell_type": "markdown",
   "metadata": {},
   "source": [
    "## Delete a File\n",
    "To delete a file, you must import the OS module, and run its os.remove() function:"
   ]
  },
  {
   "cell_type": "code",
   "execution_count": 127,
   "metadata": {},
   "outputs": [
    {
     "name": "stdout",
     "output_type": "stream",
     "text": [
      "The file does not exist\n"
     ]
    }
   ],
   "source": [
    "# Remove the file \"myfile.txt\":\n",
    "import os\n",
    "# Check if File exist:\n",
    "# To avoid getting an error, \n",
    "# you might want to check if the file exists before you try to delete it:\n",
    "# Check if file exists, then delete it:\n",
    "if os.path.exists(\"myfile.txt\"):\n",
    "  os.remove(\"myfile.txt\")\n",
    "  print('file removed')\n",
    "else:\n",
    "  print(\"The file does not exist\")\n",
    "\n",
    "# Remove the folder \"myfolder\":\n",
    "import os\n",
    "# os.rmdir(\"myfolder\") #UNCOMMEND TO RUN"
   ]
  },
  {
   "cell_type": "code",
   "execution_count": null,
   "metadata": {},
   "outputs": [],
   "source": []
  }
 ],
 "metadata": {
  "kernelspec": {
   "display_name": "Python 3",
   "language": "python",
   "name": "python3"
  },
  "language_info": {
   "codemirror_mode": {
    "name": "ipython",
    "version": 3
   },
   "file_extension": ".py",
   "mimetype": "text/x-python",
   "name": "python",
   "nbconvert_exporter": "python",
   "pygments_lexer": "ipython3",
   "version": "3.7.6"
  }
 },
 "nbformat": 4,
 "nbformat_minor": 4
}
